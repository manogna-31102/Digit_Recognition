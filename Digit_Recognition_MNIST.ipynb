{
 "cells": [
  {
   "cell_type": "code",
   "execution_count": null,
   "metadata": {
    "colab": {
     "base_uri": "https://localhost:8080/"
    },
    "id": "qSt1IGYaYe_y",
    "outputId": "b5b1fe2e-a83d-4799-a8e8-dbfe4018fd8d"
   },
   "outputs": [
    {
     "name": "stdout",
     "output_type": "stream",
     "text": [
      "Looking in indexes: https://pypi.org/simple, https://us-python.pkg.dev/colab-wheels/public/simple/\n",
      "Requirement already satisfied: tensorflow in /usr/local/lib/python3.7/dist-packages (2.8.2+zzzcolab20220719082949)\n",
      "Requirement already satisfied: protobuf<3.20,>=3.9.2 in /usr/local/lib/python3.7/dist-packages (from tensorflow) (3.17.3)\n",
      "Requirement already satisfied: typing-extensions>=3.6.6 in /usr/local/lib/python3.7/dist-packages (from tensorflow) (4.1.1)\n",
      "Requirement already satisfied: wrapt>=1.11.0 in /usr/local/lib/python3.7/dist-packages (from tensorflow) (1.14.1)\n",
      "Requirement already satisfied: keras<2.9,>=2.8.0rc0 in /usr/local/lib/python3.7/dist-packages (from tensorflow) (2.8.0)\n",
      "Requirement already satisfied: setuptools in /usr/local/lib/python3.7/dist-packages (from tensorflow) (57.4.0)\n",
      "Requirement already satisfied: grpcio<2.0,>=1.24.3 in /usr/local/lib/python3.7/dist-packages (from tensorflow) (1.47.0)\n",
      "Requirement already satisfied: tensorflow-estimator<2.9,>=2.8 in /usr/local/lib/python3.7/dist-packages (from tensorflow) (2.8.0)\n",
      "Requirement already satisfied: keras-preprocessing>=1.1.1 in /usr/local/lib/python3.7/dist-packages (from tensorflow) (1.1.2)\n",
      "Requirement already satisfied: libclang>=9.0.1 in /usr/local/lib/python3.7/dist-packages (from tensorflow) (14.0.6)\n",
      "Requirement already satisfied: opt-einsum>=2.3.2 in /usr/local/lib/python3.7/dist-packages (from tensorflow) (3.3.0)\n",
      "Requirement already satisfied: gast>=0.2.1 in /usr/local/lib/python3.7/dist-packages (from tensorflow) (0.5.3)\n",
      "Requirement already satisfied: google-pasta>=0.1.1 in /usr/local/lib/python3.7/dist-packages (from tensorflow) (0.2.0)\n",
      "Requirement already satisfied: tensorboard<2.9,>=2.8 in /usr/local/lib/python3.7/dist-packages (from tensorflow) (2.8.0)\n",
      "Requirement already satisfied: six>=1.12.0 in /usr/local/lib/python3.7/dist-packages (from tensorflow) (1.15.0)\n",
      "Requirement already satisfied: absl-py>=0.4.0 in /usr/local/lib/python3.7/dist-packages (from tensorflow) (1.2.0)\n",
      "Requirement already satisfied: h5py>=2.9.0 in /usr/local/lib/python3.7/dist-packages (from tensorflow) (3.1.0)\n",
      "Requirement already satisfied: astunparse>=1.6.0 in /usr/local/lib/python3.7/dist-packages (from tensorflow) (1.6.3)\n",
      "Requirement already satisfied: termcolor>=1.1.0 in /usr/local/lib/python3.7/dist-packages (from tensorflow) (1.1.0)\n",
      "Requirement already satisfied: numpy>=1.20 in /usr/local/lib/python3.7/dist-packages (from tensorflow) (1.21.6)\n",
      "Requirement already satisfied: flatbuffers>=1.12 in /usr/local/lib/python3.7/dist-packages (from tensorflow) (2.0)\n",
      "Requirement already satisfied: tensorflow-io-gcs-filesystem>=0.23.1 in /usr/local/lib/python3.7/dist-packages (from tensorflow) (0.26.0)\n",
      "Requirement already satisfied: wheel<1.0,>=0.23.0 in /usr/local/lib/python3.7/dist-packages (from astunparse>=1.6.0->tensorflow) (0.37.1)\n",
      "Requirement already satisfied: cached-property in /usr/local/lib/python3.7/dist-packages (from h5py>=2.9.0->tensorflow) (1.5.2)\n",
      "Requirement already satisfied: tensorboard-data-server<0.7.0,>=0.6.0 in /usr/local/lib/python3.7/dist-packages (from tensorboard<2.9,>=2.8->tensorflow) (0.6.1)\n",
      "Requirement already satisfied: google-auth-oauthlib<0.5,>=0.4.1 in /usr/local/lib/python3.7/dist-packages (from tensorboard<2.9,>=2.8->tensorflow) (0.4.6)\n",
      "Requirement already satisfied: requests<3,>=2.21.0 in /usr/local/lib/python3.7/dist-packages (from tensorboard<2.9,>=2.8->tensorflow) (2.23.0)\n",
      "Requirement already satisfied: tensorboard-plugin-wit>=1.6.0 in /usr/local/lib/python3.7/dist-packages (from tensorboard<2.9,>=2.8->tensorflow) (1.8.1)\n",
      "Requirement already satisfied: markdown>=2.6.8 in /usr/local/lib/python3.7/dist-packages (from tensorboard<2.9,>=2.8->tensorflow) (3.4.1)\n",
      "Requirement already satisfied: google-auth<3,>=1.6.3 in /usr/local/lib/python3.7/dist-packages (from tensorboard<2.9,>=2.8->tensorflow) (1.35.0)\n",
      "Requirement already satisfied: werkzeug>=0.11.15 in /usr/local/lib/python3.7/dist-packages (from tensorboard<2.9,>=2.8->tensorflow) (1.0.1)\n",
      "Requirement already satisfied: pyasn1-modules>=0.2.1 in /usr/local/lib/python3.7/dist-packages (from google-auth<3,>=1.6.3->tensorboard<2.9,>=2.8->tensorflow) (0.2.8)\n",
      "Requirement already satisfied: rsa<5,>=3.1.4 in /usr/local/lib/python3.7/dist-packages (from google-auth<3,>=1.6.3->tensorboard<2.9,>=2.8->tensorflow) (4.9)\n",
      "Requirement already satisfied: cachetools<5.0,>=2.0.0 in /usr/local/lib/python3.7/dist-packages (from google-auth<3,>=1.6.3->tensorboard<2.9,>=2.8->tensorflow) (4.2.4)\n",
      "Requirement already satisfied: requests-oauthlib>=0.7.0 in /usr/local/lib/python3.7/dist-packages (from google-auth-oauthlib<0.5,>=0.4.1->tensorboard<2.9,>=2.8->tensorflow) (1.3.1)\n",
      "Requirement already satisfied: importlib-metadata>=4.4 in /usr/local/lib/python3.7/dist-packages (from markdown>=2.6.8->tensorboard<2.9,>=2.8->tensorflow) (4.12.0)\n",
      "Requirement already satisfied: zipp>=0.5 in /usr/local/lib/python3.7/dist-packages (from importlib-metadata>=4.4->markdown>=2.6.8->tensorboard<2.9,>=2.8->tensorflow) (3.8.1)\n",
      "Requirement already satisfied: pyasn1<0.5.0,>=0.4.6 in /usr/local/lib/python3.7/dist-packages (from pyasn1-modules>=0.2.1->google-auth<3,>=1.6.3->tensorboard<2.9,>=2.8->tensorflow) (0.4.8)\n",
      "Requirement already satisfied: urllib3!=1.25.0,!=1.25.1,<1.26,>=1.21.1 in /usr/local/lib/python3.7/dist-packages (from requests<3,>=2.21.0->tensorboard<2.9,>=2.8->tensorflow) (1.24.3)\n",
      "Requirement already satisfied: certifi>=2017.4.17 in /usr/local/lib/python3.7/dist-packages (from requests<3,>=2.21.0->tensorboard<2.9,>=2.8->tensorflow) (2022.6.15)\n",
      "Requirement already satisfied: chardet<4,>=3.0.2 in /usr/local/lib/python3.7/dist-packages (from requests<3,>=2.21.0->tensorboard<2.9,>=2.8->tensorflow) (3.0.4)\n",
      "Requirement already satisfied: idna<3,>=2.5 in /usr/local/lib/python3.7/dist-packages (from requests<3,>=2.21.0->tensorboard<2.9,>=2.8->tensorflow) (2.10)\n",
      "Requirement already satisfied: oauthlib>=3.0.0 in /usr/local/lib/python3.7/dist-packages (from requests-oauthlib>=0.7.0->google-auth-oauthlib<0.5,>=0.4.1->tensorboard<2.9,>=2.8->tensorflow) (3.2.0)\n"
     ]
    }
   ],
   "source": [
    "!pip install tensorflow"
   ]
  },
  {
   "cell_type": "code",
   "execution_count": null,
   "metadata": {
    "colab": {
     "base_uri": "https://localhost:8080/"
    },
    "id": "knttI4ECLnHE",
    "outputId": "5aba33c5-be36-4c37-ab14-53be5c90874a"
   },
   "outputs": [
    {
     "name": "stdout",
     "output_type": "stream",
     "text": [
      "2.8.0\n"
     ]
    }
   ],
   "source": [
    "\n",
    "import tensorflow as tf\n",
    "from tensorflow import keras\n",
    "print(tf.keras.__version__)\n"
   ]
  },
  {
   "cell_type": "code",
   "execution_count": null,
   "metadata": {
    "colab": {
     "base_uri": "https://localhost:8080/"
    },
    "id": "c8-PSPuqLn_K",
    "outputId": "de3db8e9-b579-4beb-b1cd-7798baf65d0f"
   },
   "outputs": [
    {
     "name": "stdout",
     "output_type": "stream",
     "text": [
      "Downloading data from https://storage.googleapis.com/tensorflow/tf-keras-datasets/mnist.npz\n",
      "11493376/11490434 [==============================] - 0s 0us/step\n",
      "11501568/11490434 [==============================] - 0s 0us/step\n"
     ]
    }
   ],
   "source": [
    "mnist = keras.datasets.mnist\n",
    "(X_train, Y_train), (X_test, Y_test) = mnist.load_data()"
   ]
  },
  {
   "cell_type": "code",
   "execution_count": null,
   "metadata": {
    "colab": {
     "base_uri": "https://localhost:8080/"
    },
    "id": "t_v4WkSBLrJH",
    "outputId": "d9d2b067-c925-4cd8-88ca-2aa91622a0a8"
   },
   "outputs": [
    {
     "name": "stdout",
     "output_type": "stream",
     "text": [
      "(60000, 28, 28)\n",
      "(10000, 28, 28)\n"
     ]
    }
   ],
   "source": [
    "print(X_train.shape)\n",
    "print(X_test.shape)"
   ]
  },
  {
   "cell_type": "code",
   "execution_count": null,
   "metadata": {
    "id": "eH99QHr5Pyz0"
   },
   "outputs": [],
   "source": [
    "X_train = X_train.astype('float32')\n",
    "X_test = X_test.astype('float32')"
   ]
  },
  {
   "cell_type": "code",
   "execution_count": null,
   "metadata": {
    "colab": {
     "base_uri": "https://localhost:8080/",
     "height": 52
    },
    "id": "5uAo7yDtRhbG",
    "outputId": "eb2098b7-18e5-45bf-982b-a7dda8bfe929"
   },
   "outputs": [
    {
     "name": "stdout",
     "output_type": "stream",
     "text": [
      "60000 train samples\n",
      "10000 test samples\n"
     ]
    }
   ],
   "source": [
    "RESHAPED = 784\n",
    "X_train = X_train.reshape(60000, RESHAPED)\n",
    "X_test = X_test.reshape(10000, RESHAPED)\n",
    "X_train = X_train.astype('float32')\n",
    "X_test = X_test.astype('float32')\n",
    "X_train /= 255\n",
    "X_test /= 255\n",
    "print(X_train.shape[0], 'train samples')\n",
    "print(X_test.shape[0], 'test samples')\n",
    "Y_train = tf.keras.utils.to_categorical(Y_train, 10)\n",
    "Y_test = tf.keras.utils.to_categorical(Y_test, 10)\n"
   ]
  },
  {
   "cell_type": "code",
   "execution_count": null,
   "metadata": {
    "id": "2Q5jFOQUM-c0"
   },
   "outputs": [],
   "source": [
    "import tensorflow as tf\n",
    "from tensorflow.keras.layers import Dense\n",
    "from tensorflow.keras import Sequential\n",
    "model_0 = Sequential()\n",
    "model_0.add(Dense(10,input_shape=(784,),name='dense_layer', activation='softmax'))"
   ]
  },
  {
   "cell_type": "code",
   "execution_count": null,
   "metadata": {
    "id": "ocCzyD2SWC9I"
   },
   "outputs": [],
   "source": [
    "model_0.compile(optimizer='SGD',\n",
    "              loss='categorical_crossentropy',\n",
    "              metrics=['accuracy'])"
   ]
  },
  {
   "cell_type": "code",
   "execution_count": null,
   "metadata": {
    "colab": {
     "base_uri": "https://localhost:8080/",
     "height": 1000
    },
    "id": "fvAt9Atl-cnx",
    "outputId": "7d2721f7-37bc-4125-e9f6-5de5cadcf65d"
   },
   "outputs": [
    {
     "name": "stdout",
     "output_type": "stream",
     "text": [
      "Epoch 1/70\n",
      "750/750 [==============================] - 1s 2ms/step - loss: 1.0832 - accuracy: 0.7526 - val_loss: 0.6560 - val_accuracy: 0.8587\n",
      "Epoch 2/70\n",
      "750/750 [==============================] - 1s 2ms/step - loss: 0.6081 - accuracy: 0.8562 - val_loss: 0.5083 - val_accuracy: 0.8778\n",
      "Epoch 3/70\n",
      "750/750 [==============================] - 1s 2ms/step - loss: 0.5130 - accuracy: 0.8701 - val_loss: 0.4506 - val_accuracy: 0.8865\n",
      "Epoch 4/70\n",
      "750/750 [==============================] - 1s 2ms/step - loss: 0.4667 - accuracy: 0.8784 - val_loss: 0.4181 - val_accuracy: 0.8929\n",
      "Epoch 5/70\n",
      "750/750 [==============================] - 1s 2ms/step - loss: 0.4381 - accuracy: 0.8839 - val_loss: 0.3973 - val_accuracy: 0.8971\n",
      "Epoch 6/70\n",
      "750/750 [==============================] - 1s 2ms/step - loss: 0.4183 - accuracy: 0.8877 - val_loss: 0.3818 - val_accuracy: 0.9010\n",
      "Epoch 7/70\n",
      "750/750 [==============================] - 1s 2ms/step - loss: 0.4035 - accuracy: 0.8901 - val_loss: 0.3706 - val_accuracy: 0.9025\n",
      "Epoch 8/70\n",
      "750/750 [==============================] - 1s 2ms/step - loss: 0.3918 - accuracy: 0.8928 - val_loss: 0.3616 - val_accuracy: 0.9038\n",
      "Epoch 9/70\n",
      "750/750 [==============================] - 1s 2ms/step - loss: 0.3823 - accuracy: 0.8950 - val_loss: 0.3540 - val_accuracy: 0.9070\n",
      "Epoch 10/70\n",
      "750/750 [==============================] - 1s 2ms/step - loss: 0.3744 - accuracy: 0.8966 - val_loss: 0.3482 - val_accuracy: 0.9074\n",
      "Epoch 11/70\n",
      "750/750 [==============================] - 1s 2ms/step - loss: 0.3677 - accuracy: 0.8984 - val_loss: 0.3426 - val_accuracy: 0.9090\n",
      "Epoch 12/70\n",
      "750/750 [==============================] - 1s 2ms/step - loss: 0.3618 - accuracy: 0.8995 - val_loss: 0.3377 - val_accuracy: 0.9086\n",
      "Epoch 13/70\n",
      "750/750 [==============================] - 1s 2ms/step - loss: 0.3567 - accuracy: 0.9010 - val_loss: 0.3340 - val_accuracy: 0.9091\n",
      "Epoch 14/70\n",
      "750/750 [==============================] - 1s 2ms/step - loss: 0.3523 - accuracy: 0.9019 - val_loss: 0.3301 - val_accuracy: 0.9107\n",
      "Epoch 15/70\n",
      "750/750 [==============================] - 1s 2ms/step - loss: 0.3481 - accuracy: 0.9022 - val_loss: 0.3272 - val_accuracy: 0.9108\n",
      "Epoch 16/70\n",
      "750/750 [==============================] - 1s 2ms/step - loss: 0.3445 - accuracy: 0.9040 - val_loss: 0.3240 - val_accuracy: 0.9107\n",
      "Epoch 17/70\n",
      "750/750 [==============================] - 1s 2ms/step - loss: 0.3411 - accuracy: 0.9050 - val_loss: 0.3214 - val_accuracy: 0.9125\n",
      "Epoch 18/70\n",
      "750/750 [==============================] - 1s 2ms/step - loss: 0.3381 - accuracy: 0.9054 - val_loss: 0.3191 - val_accuracy: 0.9124\n",
      "Epoch 19/70\n",
      "750/750 [==============================] - 1s 2ms/step - loss: 0.3353 - accuracy: 0.9065 - val_loss: 0.3170 - val_accuracy: 0.9132\n",
      "Epoch 20/70\n",
      "750/750 [==============================] - 1s 2ms/step - loss: 0.3328 - accuracy: 0.9071 - val_loss: 0.3148 - val_accuracy: 0.9139\n",
      "Epoch 21/70\n",
      "750/750 [==============================] - 1s 2ms/step - loss: 0.3304 - accuracy: 0.9082 - val_loss: 0.3129 - val_accuracy: 0.9139\n",
      "Epoch 22/70\n",
      "750/750 [==============================] - 1s 2ms/step - loss: 0.3281 - accuracy: 0.9089 - val_loss: 0.3112 - val_accuracy: 0.9145\n",
      "Epoch 23/70\n",
      "750/750 [==============================] - 1s 2ms/step - loss: 0.3261 - accuracy: 0.9095 - val_loss: 0.3096 - val_accuracy: 0.9145\n",
      "Epoch 24/70\n",
      "750/750 [==============================] - 1s 2ms/step - loss: 0.3241 - accuracy: 0.9102 - val_loss: 0.3082 - val_accuracy: 0.9152\n",
      "Epoch 25/70\n",
      "750/750 [==============================] - 1s 2ms/step - loss: 0.3223 - accuracy: 0.9104 - val_loss: 0.3068 - val_accuracy: 0.9156\n",
      "Epoch 26/70\n",
      "750/750 [==============================] - 1s 2ms/step - loss: 0.3205 - accuracy: 0.9109 - val_loss: 0.3056 - val_accuracy: 0.9154\n",
      "Epoch 27/70\n",
      "750/750 [==============================] - 1s 2ms/step - loss: 0.3189 - accuracy: 0.9113 - val_loss: 0.3042 - val_accuracy: 0.9155\n",
      "Epoch 28/70\n",
      "750/750 [==============================] - 1s 2ms/step - loss: 0.3174 - accuracy: 0.9121 - val_loss: 0.3030 - val_accuracy: 0.9158\n",
      "Epoch 29/70\n",
      "750/750 [==============================] - 1s 2ms/step - loss: 0.3159 - accuracy: 0.9121 - val_loss: 0.3021 - val_accuracy: 0.9165\n",
      "Epoch 30/70\n",
      "750/750 [==============================] - 1s 2ms/step - loss: 0.3145 - accuracy: 0.9129 - val_loss: 0.3009 - val_accuracy: 0.9164\n",
      "Epoch 31/70\n",
      "750/750 [==============================] - 1s 2ms/step - loss: 0.3132 - accuracy: 0.9131 - val_loss: 0.3000 - val_accuracy: 0.9169\n",
      "Epoch 32/70\n",
      "750/750 [==============================] - 1s 2ms/step - loss: 0.3120 - accuracy: 0.9134 - val_loss: 0.2987 - val_accuracy: 0.9172\n",
      "Epoch 33/70\n",
      "750/750 [==============================] - 1s 2ms/step - loss: 0.3107 - accuracy: 0.9137 - val_loss: 0.2980 - val_accuracy: 0.9178\n",
      "Epoch 34/70\n",
      "750/750 [==============================] - 1s 2ms/step - loss: 0.3096 - accuracy: 0.9143 - val_loss: 0.2973 - val_accuracy: 0.9171\n",
      "Epoch 35/70\n",
      "750/750 [==============================] - 1s 2ms/step - loss: 0.3085 - accuracy: 0.9146 - val_loss: 0.2962 - val_accuracy: 0.9178\n",
      "Epoch 36/70\n",
      "750/750 [==============================] - 1s 2ms/step - loss: 0.3074 - accuracy: 0.9150 - val_loss: 0.2955 - val_accuracy: 0.9180\n",
      "Epoch 37/70\n",
      "750/750 [==============================] - 1s 2ms/step - loss: 0.3065 - accuracy: 0.9152 - val_loss: 0.2947 - val_accuracy: 0.9185\n",
      "Epoch 38/70\n",
      "750/750 [==============================] - 1s 2ms/step - loss: 0.3054 - accuracy: 0.9153 - val_loss: 0.2940 - val_accuracy: 0.9183\n",
      "Epoch 39/70\n",
      "750/750 [==============================] - 1s 2ms/step - loss: 0.3045 - accuracy: 0.9157 - val_loss: 0.2933 - val_accuracy: 0.9181\n",
      "Epoch 40/70\n",
      "750/750 [==============================] - 1s 2ms/step - loss: 0.3036 - accuracy: 0.9156 - val_loss: 0.2927 - val_accuracy: 0.9194\n",
      "Epoch 41/70\n",
      "750/750 [==============================] - 1s 2ms/step - loss: 0.3027 - accuracy: 0.9160 - val_loss: 0.2920 - val_accuracy: 0.9186\n",
      "Epoch 42/70\n",
      "750/750 [==============================] - 1s 2ms/step - loss: 0.3019 - accuracy: 0.9163 - val_loss: 0.2914 - val_accuracy: 0.9190\n",
      "Epoch 43/70\n",
      "750/750 [==============================] - 1s 2ms/step - loss: 0.3011 - accuracy: 0.9162 - val_loss: 0.2911 - val_accuracy: 0.9187\n",
      "Epoch 44/70\n",
      "750/750 [==============================] - 1s 2ms/step - loss: 0.3003 - accuracy: 0.9168 - val_loss: 0.2905 - val_accuracy: 0.9190\n",
      "Epoch 45/70\n",
      "750/750 [==============================] - 1s 2ms/step - loss: 0.2996 - accuracy: 0.9168 - val_loss: 0.2898 - val_accuracy: 0.9193\n",
      "Epoch 46/70\n",
      "750/750 [==============================] - 1s 2ms/step - loss: 0.2988 - accuracy: 0.9174 - val_loss: 0.2893 - val_accuracy: 0.9199\n",
      "Epoch 47/70\n",
      "750/750 [==============================] - 1s 2ms/step - loss: 0.2981 - accuracy: 0.9170 - val_loss: 0.2889 - val_accuracy: 0.9197\n",
      "Epoch 48/70\n",
      "750/750 [==============================] - 1s 2ms/step - loss: 0.2974 - accuracy: 0.9171 - val_loss: 0.2884 - val_accuracy: 0.9197\n",
      "Epoch 49/70\n",
      "750/750 [==============================] - 1s 2ms/step - loss: 0.2967 - accuracy: 0.9171 - val_loss: 0.2877 - val_accuracy: 0.9200\n",
      "Epoch 50/70\n",
      "750/750 [==============================] - 1s 2ms/step - loss: 0.2961 - accuracy: 0.9177 - val_loss: 0.2872 - val_accuracy: 0.9198\n",
      "Epoch 51/70\n",
      "750/750 [==============================] - 1s 2ms/step - loss: 0.2954 - accuracy: 0.9178 - val_loss: 0.2869 - val_accuracy: 0.9197\n",
      "Epoch 52/70\n",
      "750/750 [==============================] - 1s 2ms/step - loss: 0.2949 - accuracy: 0.9177 - val_loss: 0.2864 - val_accuracy: 0.9197\n",
      "Epoch 53/70\n",
      "750/750 [==============================] - 1s 2ms/step - loss: 0.2943 - accuracy: 0.9183 - val_loss: 0.2860 - val_accuracy: 0.9201\n",
      "Epoch 54/70\n",
      "750/750 [==============================] - 1s 2ms/step - loss: 0.2936 - accuracy: 0.9181 - val_loss: 0.2858 - val_accuracy: 0.9203\n",
      "Epoch 55/70\n",
      "750/750 [==============================] - 1s 2ms/step - loss: 0.2930 - accuracy: 0.9182 - val_loss: 0.2856 - val_accuracy: 0.9206\n",
      "Epoch 56/70\n",
      "750/750 [==============================] - 1s 2ms/step - loss: 0.2926 - accuracy: 0.9181 - val_loss: 0.2849 - val_accuracy: 0.9206\n",
      "Epoch 57/70\n",
      "750/750 [==============================] - 1s 2ms/step - loss: 0.2919 - accuracy: 0.9186 - val_loss: 0.2848 - val_accuracy: 0.9206\n",
      "Epoch 58/70\n",
      "750/750 [==============================] - 1s 2ms/step - loss: 0.2914 - accuracy: 0.9191 - val_loss: 0.2843 - val_accuracy: 0.9206\n",
      "Epoch 59/70\n",
      "750/750 [==============================] - 1s 2ms/step - loss: 0.2910 - accuracy: 0.9188 - val_loss: 0.2839 - val_accuracy: 0.9208\n",
      "Epoch 60/70\n",
      "750/750 [==============================] - 1s 2ms/step - loss: 0.2904 - accuracy: 0.9189 - val_loss: 0.2834 - val_accuracy: 0.9211\n",
      "Epoch 61/70\n",
      "750/750 [==============================] - 1s 2ms/step - loss: 0.2899 - accuracy: 0.9192 - val_loss: 0.2832 - val_accuracy: 0.9205\n",
      "Epoch 62/70\n",
      "750/750 [==============================] - 1s 2ms/step - loss: 0.2895 - accuracy: 0.9196 - val_loss: 0.2828 - val_accuracy: 0.9207\n",
      "Epoch 63/70\n",
      "750/750 [==============================] - 1s 2ms/step - loss: 0.2890 - accuracy: 0.9194 - val_loss: 0.2826 - val_accuracy: 0.9209\n",
      "Epoch 64/70\n",
      "750/750 [==============================] - 1s 2ms/step - loss: 0.2886 - accuracy: 0.9195 - val_loss: 0.2821 - val_accuracy: 0.9214\n",
      "Epoch 65/70\n",
      "750/750 [==============================] - 1s 2ms/step - loss: 0.2881 - accuracy: 0.9197 - val_loss: 0.2819 - val_accuracy: 0.9211\n",
      "Epoch 66/70\n",
      "750/750 [==============================] - 1s 2ms/step - loss: 0.2877 - accuracy: 0.9195 - val_loss: 0.2817 - val_accuracy: 0.9213\n",
      "Epoch 67/70\n",
      "750/750 [==============================] - 1s 2ms/step - loss: 0.2873 - accuracy: 0.9199 - val_loss: 0.2813 - val_accuracy: 0.9215\n",
      "Epoch 68/70\n",
      "750/750 [==============================] - 1s 2ms/step - loss: 0.2869 - accuracy: 0.9198 - val_loss: 0.2812 - val_accuracy: 0.9210\n",
      "Epoch 69/70\n",
      "750/750 [==============================] - 1s 2ms/step - loss: 0.2864 - accuracy: 0.9200 - val_loss: 0.2809 - val_accuracy: 0.9215\n",
      "Epoch 70/70\n",
      "750/750 [==============================] - 1s 2ms/step - loss: 0.2860 - accuracy: 0.9204 - val_loss: 0.2805 - val_accuracy: 0.9210\n"
     ]
    }
   ],
   "source": [
    "training = model_0.fit(X_train, Y_train, batch_size=64, epochs=70, validation_split=0.2)"
   ]
  },
  {
   "cell_type": "code",
   "execution_count": null,
   "metadata": {
    "colab": {
     "base_uri": "https://localhost:8080/",
     "height": 591
    },
    "id": "hof2yoiDBCab",
    "outputId": "ffa7fc4c-b46a-4b01-d04e-69bf11ca7f8a"
   },
   "outputs": [
    {
     "name": "stdout",
     "output_type": "stream",
     "text": [
      "dict_keys(['loss', 'accuracy', 'val_loss', 'val_accuracy'])\n"
     ]
    },
    {
     "data": {
      "image/png": "[encoded data removed]",
      "text/plain": [
       "<Figure size 432x288 with 1 Axes>"
      ]
     },
     "metadata": {
      "needs_background": "light",
      "tags": []
     },
     "output_type": "display_data"
    },
    {
     "data": {
      "image/png": "[encoded data removed]",
      "text/plain": [
       "<Figure size 432x288 with 1 Axes>"
      ]
     },
     "metadata": {
      "needs_background": "light",
      "tags": []
     },
     "output_type": "display_data"
    }
   ],
   "source": [
    "import matplotlib.pyplot as plt\n",
    "%matplotlib inline\n",
    "print(training.history.keys())\n",
    "plt.plot(training.history['accuracy'])\n",
    "plt.plot(training.history['val_accuracy'])\n",
    "plt.title('model accuracy')\n",
    "plt.ylabel('accuracy')\n",
    "plt.xlabel('epoch')\n",
    "plt.legend(['train', 'test'], loc='upper left')\n",
    "plt.show()\n",
    "plt.plot(training.history['loss'])\n",
    "plt.plot(training.history['val_loss'])\n",
    "plt.title('model loss')\n",
    "plt.ylabel('loss')\n",
    "plt.xlabel('epoch')\n",
    "plt.legend(['train', 'test'], loc='upper left')\n",
    "plt.show()"
   ]
  },
  {
   "cell_type": "code",
   "execution_count": null,
   "metadata": {
    "colab": {
     "base_uri": "https://localhost:8080/",
     "height": 52
    },
    "id": "SzP_B7w7_1tj",
    "outputId": "44665fb0-3c93-4639-8333-045fffeb44c9"
   },
   "outputs": [
    {
     "name": "stdout",
     "output_type": "stream",
     "text": [
      "313/313 [==============================] - 0s 1ms/step - loss: 0.2827 - accuracy: 0.9210\n",
      "Test accuracy: 0.9210000038146973\n"
     ]
    }
   ],
   "source": [
    "test_loss, test_acc = model_0.evaluate(X_test, Y_test)\n",
    "print('Test accuracy:', test_acc)"
   ]
  },
  {
   "cell_type": "code",
   "execution_count": null,
   "metadata": {
    "id": "VVkZL5uiAhJB"
   },
   "outputs": [],
   "source": [
    "model_1 = tf.keras.Sequential()\n",
    "N_hidden = 64\n",
    "model_1.add(Dense(N_hidden, name='dense_layer', input_shape=(784,), activation = 'relu'))\n",
    "model_1.add(Dense(N_hidden, name='dense_layer_2', activation='relu'))\n",
    "model_1.add(Dense(10, name='dense_layer_3', activation = 'softmax'))"
   ]
  },
  {
   "cell_type": "code",
   "execution_count": null,
   "metadata": {
    "id": "MiYit8ATfCXw"
   },
   "outputs": [],
   "source": [
    "model_1.compile(optimizer='SGD',\n",
    "              loss='categorical_crossentropy',\n",
    "              metrics=['accuracy'])"
   ]
  },
  {
   "cell_type": "code",
   "execution_count": null,
   "metadata": {
    "colab": {
     "base_uri": "https://localhost:8080/",
     "height": 1000
    },
    "id": "qeWrSoxzfCYE",
    "outputId": "7975543c-aeab-478a-ce61-dbc36f20c588"
   },
   "outputs": [
    {
     "name": "stdout",
     "output_type": "stream",
     "text": [
      "Epoch 1/100\n",
      "750/750 [==============================] - 2s 2ms/step - loss: 1.1360 - accuracy: 0.7017 - val_loss: 0.4982 - val_accuracy: 0.8706\n",
      "Epoch 2/100\n",
      "750/750 [==============================] - 2s 2ms/step - loss: 0.4416 - accuracy: 0.8785 - val_loss: 0.3600 - val_accuracy: 0.8966\n",
      "Epoch 3/100\n",
      "750/750 [==============================] - 2s 2ms/step - loss: 0.3561 - accuracy: 0.8987 - val_loss: 0.3126 - val_accuracy: 0.9104\n",
      "Epoch 4/100\n",
      "750/750 [==============================] - 2s 2ms/step - loss: 0.3161 - accuracy: 0.9096 - val_loss: 0.2842 - val_accuracy: 0.9181\n",
      "Epoch 5/100\n",
      "750/750 [==============================] - 2s 2ms/step - loss: 0.2891 - accuracy: 0.9170 - val_loss: 0.2607 - val_accuracy: 0.9248\n",
      "Epoch 6/100\n",
      "750/750 [==============================] - 2s 2ms/step - loss: 0.2678 - accuracy: 0.9227 - val_loss: 0.2451 - val_accuracy: 0.9297\n",
      "Epoch 7/100\n",
      "750/750 [==============================] - 2s 2ms/step - loss: 0.2497 - accuracy: 0.9285 - val_loss: 0.2336 - val_accuracy: 0.9332\n",
      "Epoch 8/100\n",
      "750/750 [==============================] - 2s 2ms/step - loss: 0.2345 - accuracy: 0.9327 - val_loss: 0.2186 - val_accuracy: 0.9376\n",
      "Epoch 9/100\n",
      "750/750 [==============================] - 2s 2ms/step - loss: 0.2209 - accuracy: 0.9363 - val_loss: 0.2096 - val_accuracy: 0.9394\n",
      "Epoch 10/100\n",
      "750/750 [==============================] - 2s 2ms/step - loss: 0.2089 - accuracy: 0.9403 - val_loss: 0.1998 - val_accuracy: 0.9436\n",
      "Epoch 11/100\n",
      "750/750 [==============================] - 2s 2ms/step - loss: 0.1981 - accuracy: 0.9431 - val_loss: 0.1918 - val_accuracy: 0.9462\n",
      "Epoch 12/100\n",
      "750/750 [==============================] - 2s 2ms/step - loss: 0.1887 - accuracy: 0.9458 - val_loss: 0.1844 - val_accuracy: 0.9491\n",
      "Epoch 13/100\n",
      "750/750 [==============================] - 2s 2ms/step - loss: 0.1794 - accuracy: 0.9490 - val_loss: 0.1765 - val_accuracy: 0.9498\n",
      "Epoch 14/100\n",
      "750/750 [==============================] - 2s 2ms/step - loss: 0.1716 - accuracy: 0.9507 - val_loss: 0.1699 - val_accuracy: 0.9517\n",
      "Epoch 15/100\n",
      "750/750 [==============================] - 2s 2ms/step - loss: 0.1642 - accuracy: 0.9526 - val_loss: 0.1639 - val_accuracy: 0.9537\n",
      "Epoch 16/100\n",
      "750/750 [==============================] - 2s 2ms/step - loss: 0.1575 - accuracy: 0.9548 - val_loss: 0.1601 - val_accuracy: 0.9549\n",
      "Epoch 17/100\n",
      "750/750 [==============================] - 2s 2ms/step - loss: 0.1510 - accuracy: 0.9560 - val_loss: 0.1559 - val_accuracy: 0.9555\n",
      "Epoch 18/100\n",
      "750/750 [==============================] - 2s 2ms/step - loss: 0.1457 - accuracy: 0.9585 - val_loss: 0.1506 - val_accuracy: 0.9582\n",
      "Epoch 19/100\n",
      "750/750 [==============================] - 2s 2ms/step - loss: 0.1397 - accuracy: 0.9601 - val_loss: 0.1478 - val_accuracy: 0.9582\n",
      "Epoch 20/100\n",
      "750/750 [==============================] - 2s 2ms/step - loss: 0.1351 - accuracy: 0.9610 - val_loss: 0.1428 - val_accuracy: 0.9600\n",
      "Epoch 21/100\n",
      "750/750 [==============================] - 2s 2ms/step - loss: 0.1302 - accuracy: 0.9629 - val_loss: 0.1414 - val_accuracy: 0.9601\n",
      "Epoch 22/100\n",
      "750/750 [==============================] - 2s 2ms/step - loss: 0.1260 - accuracy: 0.9641 - val_loss: 0.1371 - val_accuracy: 0.9598\n",
      "Epoch 23/100\n",
      "750/750 [==============================] - 2s 2ms/step - loss: 0.1217 - accuracy: 0.9657 - val_loss: 0.1376 - val_accuracy: 0.9602\n",
      "Epoch 24/100\n",
      "750/750 [==============================] - 2s 2ms/step - loss: 0.1180 - accuracy: 0.9668 - val_loss: 0.1331 - val_accuracy: 0.9616\n",
      "Epoch 25/100\n",
      "750/750 [==============================] - 2s 2ms/step - loss: 0.1146 - accuracy: 0.9674 - val_loss: 0.1296 - val_accuracy: 0.9628\n",
      "Epoch 26/100\n",
      "750/750 [==============================] - 2s 2ms/step - loss: 0.1109 - accuracy: 0.9686 - val_loss: 0.1289 - val_accuracy: 0.9637\n",
      "Epoch 27/100\n",
      "750/750 [==============================] - 2s 2ms/step - loss: 0.1078 - accuracy: 0.9696 - val_loss: 0.1263 - val_accuracy: 0.9637\n",
      "Epoch 28/100\n",
      "750/750 [==============================] - 2s 2ms/step - loss: 0.1048 - accuracy: 0.9706 - val_loss: 0.1233 - val_accuracy: 0.9635\n",
      "Epoch 29/100\n",
      "750/750 [==============================] - 2s 2ms/step - loss: 0.1019 - accuracy: 0.9709 - val_loss: 0.1210 - val_accuracy: 0.9642\n",
      "Epoch 30/100\n",
      "750/750 [==============================] - 2s 2ms/step - loss: 0.0989 - accuracy: 0.9719 - val_loss: 0.1192 - val_accuracy: 0.9655\n",
      "Epoch 31/100\n",
      "750/750 [==============================] - 2s 2ms/step - loss: 0.0964 - accuracy: 0.9733 - val_loss: 0.1172 - val_accuracy: 0.9657\n",
      "Epoch 32/100\n",
      "750/750 [==============================] - 2s 2ms/step - loss: 0.0940 - accuracy: 0.9739 - val_loss: 0.1157 - val_accuracy: 0.9659\n",
      "Epoch 33/100\n",
      "750/750 [==============================] - 2s 2ms/step - loss: 0.0915 - accuracy: 0.9748 - val_loss: 0.1146 - val_accuracy: 0.9667\n",
      "Epoch 34/100\n",
      "750/750 [==============================] - 2s 2ms/step - loss: 0.0891 - accuracy: 0.9750 - val_loss: 0.1134 - val_accuracy: 0.9661\n",
      "Epoch 35/100\n",
      "750/750 [==============================] - 2s 2ms/step - loss: 0.0871 - accuracy: 0.9755 - val_loss: 0.1127 - val_accuracy: 0.9672\n",
      "Epoch 36/100\n",
      "750/750 [==============================] - 2s 2ms/step - loss: 0.0850 - accuracy: 0.9764 - val_loss: 0.1114 - val_accuracy: 0.9672\n",
      "Epoch 37/100\n",
      "750/750 [==============================] - 2s 2ms/step - loss: 0.0829 - accuracy: 0.9770 - val_loss: 0.1121 - val_accuracy: 0.9673\n",
      "Epoch 38/100\n",
      "750/750 [==============================] - 2s 2ms/step - loss: 0.0807 - accuracy: 0.9780 - val_loss: 0.1103 - val_accuracy: 0.9683\n",
      "Epoch 39/100\n",
      "750/750 [==============================] - 2s 2ms/step - loss: 0.0790 - accuracy: 0.9781 - val_loss: 0.1084 - val_accuracy: 0.9680\n",
      "Epoch 40/100\n",
      "750/750 [==============================] - 2s 2ms/step - loss: 0.0755 - accuracy: 0.9793 - val_loss: 0.1065 - val_accuracy: 0.9691\n",
      "Epoch 42/100\n",
      "750/750 [==============================] - 2s 2ms/step - loss: 0.0736 - accuracy: 0.9796 - val_loss: 0.1062 - val_accuracy: 0.9688\n",
      "Epoch 43/100\n",
      "750/750 [==============================] - 2s 2ms/step - loss: 0.0721 - accuracy: 0.9804 - val_loss: 0.1074 - val_accuracy: 0.9676\n",
      "Epoch 44/100\n",
      "750/750 [==============================] - 2s 2ms/step - loss: 0.0706 - accuracy: 0.9809 - val_loss: 0.1043 - val_accuracy: 0.9696\n",
      "Epoch 45/100\n",
      "750/750 [==============================] - 2s 2ms/step - loss: 0.0692 - accuracy: 0.9813 - val_loss: 0.1040 - val_accuracy: 0.9697\n",
      "Epoch 46/100\n",
      "750/750 [==============================] - 2s 2ms/step - loss: 0.0676 - accuracy: 0.9813 - val_loss: 0.1043 - val_accuracy: 0.9693\n",
      "Epoch 47/100\n",
      "750/750 [==============================] - 2s 2ms/step - loss: 0.0664 - accuracy: 0.9818 - val_loss: 0.1023 - val_accuracy: 0.9697\n",
      "Epoch 48/100\n",
      "750/750 [==============================] - 2s 2ms/step - loss: 0.0649 - accuracy: 0.9826 - val_loss: 0.1041 - val_accuracy: 0.9695\n",
      "Epoch 49/100\n",
      "750/750 [==============================] - 2s 2ms/step - loss: 0.0635 - accuracy: 0.9825 - val_loss: 0.1020 - val_accuracy: 0.9700\n",
      "Epoch 50/100\n",
      "750/750 [==============================] - 2s 2ms/step - loss: 0.0624 - accuracy: 0.9829 - val_loss: 0.1017 - val_accuracy: 0.9707\n",
      "Epoch 51/100\n",
      "750/750 [==============================] - 2s 2ms/step - loss: 0.0609 - accuracy: 0.9835 - val_loss: 0.1006 - val_accuracy: 0.9693\n",
      "Epoch 52/100\n",
      "750/750 [==============================] - 2s 2ms/step - loss: 0.0599 - accuracy: 0.9839 - val_loss: 0.1018 - val_accuracy: 0.9691\n",
      "Epoch 53/100\n",
      "750/750 [==============================] - 2s 2ms/step - loss: 0.0585 - accuracy: 0.9840 - val_loss: 0.1001 - val_accuracy: 0.9709\n",
      "Epoch 54/100\n",
      "750/750 [==============================] - 2s 2ms/step - loss: 0.0573 - accuracy: 0.9845 - val_loss: 0.0997 - val_accuracy: 0.9718\n",
      "Epoch 55/100\n",
      "750/750 [==============================] - 2s 2ms/step - loss: 0.0563 - accuracy: 0.9848 - val_loss: 0.0997 - val_accuracy: 0.9703\n",
      "Epoch 56/100\n",
      "750/750 [==============================] - 2s 2ms/step - loss: 0.0551 - accuracy: 0.9850 - val_loss: 0.0997 - val_accuracy: 0.9714\n",
      "Epoch 57/100\n",
      "750/750 [==============================] - 2s 2ms/step - loss: 0.0541 - accuracy: 0.9854 - val_loss: 0.0993 - val_accuracy: 0.9720\n",
      "Epoch 58/100\n",
      "750/750 [==============================] - 2s 2ms/step - loss: 0.0530 - accuracy: 0.9857 - val_loss: 0.1000 - val_accuracy: 0.9704\n",
      "Epoch 59/100\n",
      "750/750 [==============================] - 2s 2ms/step - loss: 0.0519 - accuracy: 0.9858 - val_loss: 0.0983 - val_accuracy: 0.9709\n",
      "Epoch 60/100\n",
      "750/750 [==============================] - 2s 2ms/step - loss: 0.0508 - accuracy: 0.9865 - val_loss: 0.0979 - val_accuracy: 0.9719\n",
      "Epoch 61/100\n",
      "750/750 [==============================] - 2s 2ms/step - loss: 0.0500 - accuracy: 0.9865 - val_loss: 0.0995 - val_accuracy: 0.9714\n",
      "Epoch 62/100\n",
      "750/750 [==============================] - 2s 2ms/step - loss: 0.0490 - accuracy: 0.9870 - val_loss: 0.0991 - val_accuracy: 0.9715\n",
      "Epoch 63/100\n",
      "750/750 [==============================] - 2s 2ms/step - loss: 0.0481 - accuracy: 0.9873 - val_loss: 0.0983 - val_accuracy: 0.9720\n",
      "Epoch 64/100\n",
      "750/750 [==============================] - 2s 2ms/step - loss: 0.0473 - accuracy: 0.9874 - val_loss: 0.0986 - val_accuracy: 0.9717\n",
      "Epoch 65/100\n",
      "750/750 [==============================] - 2s 2ms/step - loss: 0.0463 - accuracy: 0.9879 - val_loss: 0.0978 - val_accuracy: 0.9724\n",
      "Epoch 66/100\n",
      "750/750 [==============================] - 2s 2ms/step - loss: 0.0453 - accuracy: 0.9878 - val_loss: 0.0977 - val_accuracy: 0.9720\n",
      "Epoch 67/100\n",
      "750/750 [==============================] - 2s 2ms/step - loss: 0.0445 - accuracy: 0.9882 - val_loss: 0.0969 - val_accuracy: 0.9719\n",
      "Epoch 68/100\n",
      "750/750 [==============================] - 2s 2ms/step - loss: 0.0436 - accuracy: 0.9887 - val_loss: 0.0976 - val_accuracy: 0.9722\n",
      "Epoch 69/100\n",
      "750/750 [==============================] - 2s 2ms/step - loss: 0.0428 - accuracy: 0.9888 - val_loss: 0.0975 - val_accuracy: 0.9724\n",
      "Epoch 70/100\n",
      "750/750 [==============================] - 2s 2ms/step - loss: 0.0420 - accuracy: 0.9891 - val_loss: 0.0992 - val_accuracy: 0.9715\n",
      "Epoch 71/100\n",
      "750/750 [==============================] - 2s 2ms/step - loss: 0.0415 - accuracy: 0.9891 - val_loss: 0.0971 - val_accuracy: 0.9722\n",
      "Epoch 72/100\n",
      "750/750 [==============================] - 2s 2ms/step - loss: 0.0405 - accuracy: 0.9895 - val_loss: 0.0979 - val_accuracy: 0.9717\n",
      "Epoch 73/100\n",
      "750/750 [==============================] - 2s 2ms/step - loss: 0.0397 - accuracy: 0.9901 - val_loss: 0.0975 - val_accuracy: 0.9720\n",
      "Epoch 74/100\n",
      "750/750 [==============================] - 2s 2ms/step - loss: 0.0392 - accuracy: 0.9900 - val_loss: 0.0980 - val_accuracy: 0.9719\n",
      "Epoch 75/100\n",
      "750/750 [==============================] - 2s 2ms/step - loss: 0.0385 - accuracy: 0.9901 - val_loss: 0.0969 - val_accuracy: 0.9715\n",
      "Epoch 76/100\n",
      "750/750 [==============================] - 2s 2ms/step - loss: 0.0377 - accuracy: 0.9902 - val_loss: 0.0970 - val_accuracy: 0.9724\n",
      "Epoch 77/100\n",
      "750/750 [==============================] - 2s 2ms/step - loss: 0.0369 - accuracy: 0.9905 - val_loss: 0.0976 - val_accuracy: 0.9719\n",
      "Epoch 78/100\n",
      "750/750 [==============================] - 2s 2ms/step - loss: 0.0362 - accuracy: 0.9911 - val_loss: 0.0970 - val_accuracy: 0.9716\n",
      "Epoch 79/100\n",
      "750/750 [==============================] - 2s 2ms/step - loss: 0.0356 - accuracy: 0.9914 - val_loss: 0.0974 - val_accuracy: 0.9719\n",
      "Epoch 80/100\n",
      "750/750 [==============================] - 2s 2ms/step - loss: 0.0349 - accuracy: 0.9915 - val_loss: 0.0973 - val_accuracy: 0.9723\n",
      "Epoch 81/100\n",
      "750/750 [==============================] - 2s 2ms/step - loss: 0.0344 - accuracy: 0.9914 - val_loss: 0.0969 - val_accuracy: 0.9715\n",
      "Epoch 82/100\n",
      "750/750 [==============================] - 2s 2ms/step - loss: 0.0337 - accuracy: 0.9918 - val_loss: 0.0976 - val_accuracy: 0.9728\n",
      "Epoch 83/100\n",
      "750/750 [==============================] - 2s 2ms/step - loss: 0.0331 - accuracy: 0.9919 - val_loss: 0.0972 - val_accuracy: 0.9726\n",
      "Epoch 84/100\n",
      "750/750 [==============================] - 2s 2ms/step - loss: 0.0325 - accuracy: 0.9921 - val_loss: 0.0981 - val_accuracy: 0.9725\n",
      "Epoch 85/100\n",
      "750/750 [==============================] - 2s 2ms/step - loss: 0.0320 - accuracy: 0.9923 - val_loss: 0.0972 - val_accuracy: 0.9720\n",
      "Epoch 86/100\n",
      "750/750 [==============================] - 2s 2ms/step - loss: 0.0314 - accuracy: 0.9923 - val_loss: 0.0983 - val_accuracy: 0.9722\n",
      "Epoch 87/100\n",
      "750/750 [==============================] - 2s 2ms/step - loss: 0.0307 - accuracy: 0.9926 - val_loss: 0.0988 - val_accuracy: 0.9727\n",
      "Epoch 88/100\n",
      "750/750 [==============================] - 2s 2ms/step - loss: 0.0305 - accuracy: 0.9928 - val_loss: 0.0982 - val_accuracy: 0.9724\n",
      "Epoch 89/100\n",
      "750/750 [==============================] - 2s 2ms/step - loss: 0.0297 - accuracy: 0.9928 - val_loss: 0.0975 - val_accuracy: 0.9727\n",
      "Epoch 90/100\n",
      "750/750 [==============================] - 2s 2ms/step - loss: 0.0291 - accuracy: 0.9933 - val_loss: 0.0994 - val_accuracy: 0.9725\n",
      "Epoch 91/100\n",
      "750/750 [==============================] - 2s 2ms/step - loss: 0.0287 - accuracy: 0.9935 - val_loss: 0.0992 - val_accuracy: 0.9718\n",
      "Epoch 92/100\n",
      "750/750 [==============================] - 2s 2ms/step - loss: 0.0283 - accuracy: 0.9936 - val_loss: 0.0985 - val_accuracy: 0.9716\n",
      "Epoch 93/100\n",
      "750/750 [==============================] - 2s 2ms/step - loss: 0.0278 - accuracy: 0.9939 - val_loss: 0.0985 - val_accuracy: 0.9717\n",
      "Epoch 94/100\n",
      "750/750 [==============================] - 2s 2ms/step - loss: 0.0272 - accuracy: 0.9941 - val_loss: 0.0991 - val_accuracy: 0.9713\n",
      "Epoch 95/100\n",
      "750/750 [==============================] - 2s 2ms/step - loss: 0.0269 - accuracy: 0.9941 - val_loss: 0.0986 - val_accuracy: 0.9722\n",
      "Epoch 96/100\n",
      "750/750 [==============================] - 2s 2ms/step - loss: 0.0263 - accuracy: 0.9942 - val_loss: 0.0989 - val_accuracy: 0.9725\n",
      "Epoch 97/100\n",
      "750/750 [==============================] - 2s 3ms/step - loss: 0.0259 - accuracy: 0.9942 - val_loss: 0.0986 - val_accuracy: 0.9728\n",
      "Epoch 98/100\n",
      "750/750 [==============================] - 3s 4ms/step - loss: 0.0254 - accuracy: 0.9945 - val_loss: 0.0989 - val_accuracy: 0.9728\n",
      "Epoch 99/100\n",
      "750/750 [==============================] - 3s 4ms/step - loss: 0.0251 - accuracy: 0.9945 - val_loss: 0.1000 - val_accuracy: 0.9724\n",
      "Epoch 100/100\n",
      "750/750 [==============================] - 2s 3ms/step - loss: 0.0245 - accuracy: 0.9950 - val_loss: 0.0989 - val_accuracy: 0.9734\n"
     ]
    }
   ],
   "source": [
    "training = model_1.fit(X_train, Y_train, batch_size=64, epochs=100, validation_split=0.2)"
   ]
  },
  {
   "cell_type": "code",
   "execution_count": null,
   "metadata": {
    "colab": {
     "base_uri": "https://localhost:8080/",
     "height": 591
    },
    "id": "0W6J4tagfCYR",
    "outputId": "cc0cb5d9-2c1f-4c37-ecd0-aa889b1348ae"
   },
   "outputs": [
    {
     "name": "stdout",
     "output_type": "stream",
     "text": [
      "dict_keys(['loss', 'accuracy', 'val_loss', 'val_accuracy'])\n"
     ]
    },
    {
     "data": {
      "image/png": "[encoded data removed]",
      "text/plain": [
       "<Figure size 432x288 with 1 Axes>"
      ]
     },
     "metadata": {
      "needs_background": "light",
      "tags": []
     },
     "output_type": "display_data"
    },
    {
     "data": {
      "image/png": "[encoded data removed]",
      "text/plain": [
       "<Figure size 432x288 with 1 Axes>"
      ]
     },
     "metadata": {
      "needs_background": "light",
      "tags": []
     },
     "output_type": "display_data"
    }
   ],
   "source": [
    "import matplotlib.pyplot as plt\n",
    "%matplotlib inline\n",
    "print(training.history.keys())\n",
    "plt.plot(training.history['accuracy'])\n",
    "plt.plot(training.history['val_accuracy'])\n",
    "plt.title('model accuracy')\n",
    "plt.ylabel('accuracy')\n",
    "plt.xlabel('epoch')\n",
    "plt.legend(['train', 'test'], loc='upper left')\n",
    "plt.show()\n",
    "plt.plot(training.history['loss'])\n",
    "plt.plot(training.history['val_loss'])\n",
    "plt.title('model loss')\n",
    "plt.ylabel('loss')\n",
    "plt.xlabel('epoch')\n",
    "plt.legend(['train', 'test'], loc='upper left')\n",
    "plt.show()"
   ]
  },
  {
   "cell_type": "code",
   "execution_count": null,
   "metadata": {
    "colab": {
     "base_uri": "https://localhost:8080/",
     "height": 52
    },
    "id": "LG8UWh68fCYe",
    "outputId": "8a794693-31fd-4308-c15d-8c373fac296a"
   },
   "outputs": [
    {
     "name": "stdout",
     "output_type": "stream",
     "text": [
      "313/313 [==============================] - 0s 1ms/step - loss: 0.0935 - accuracy: 0.9737\n",
      "Test accuracy: 0.9736999869346619\n"
     ]
    }
   ],
   "source": [
    "test_loss, test_acc = model_1.evaluate(X_test, Y_test)\n",
    "print('Test accuracy:', test_acc)"
   ]
  },
  {
   "cell_type": "code",
   "execution_count": null,
   "metadata": {
    "id": "5Ad_vKSRiNq0"
   },
   "outputs": [],
   "source": [
    "import tensorflow as tf\n",
    "from tensorflow.keras.layers import Dense\n",
    "from tensorflow.keras.layers import Dropout\n",
    "model_2 = tf.keras.Sequential()\n",
    "N_hidden = 512\n",
    "model_2.add(Dense(N_hidden, name='dense_layer', input_shape=(784,), activation = 'relu'))\n",
    "model_2.add(Dropout(0.3))\n",
    "model_2.add(Dense(N_hidden, name='dense_layer_2', activation='relu'))\n",
    "model_2.add(Dropout(0.3))\n",
    "model_2.add(Dense(N_hidden, name='dense_layer_3', activation='relu'))\n",
    "model_2.add(Dropout(0.3))\n",
    "model_2.add(Dense(10, name='dense_layer_4', activation = 'softmax'))\n"
   ]
  },
  {
   "cell_type": "code",
   "execution_count": null,
   "metadata": {
    "id": "OgTz-7_Ai03r"
   },
   "outputs": [],
   "source": [
    "model_2.compile(optimizer='Adam',\n",
    "              loss='categorical_crossentropy',\n",
    "              metrics=['accuracy'])"
   ]
  },
  {
   "cell_type": "code",
   "execution_count": null,
   "metadata": {
    "colab": {
     "base_uri": "https://localhost:8080/",
     "height": 1000
    },
    "id": "8wlsmatji03-",
    "outputId": "ade9f5a4-6de1-4410-9060-001af4422d9d"
   },
   "outputs": [
    {
     "name": "stdout",
     "output_type": "stream",
     "text": [
      "Epoch 1/200\n",
      "750/750 [==============================] - 11s 15ms/step - loss: 0.2993 - accuracy: 0.9073 - val_loss: 0.1269 - val_accuracy: 0.9621\n",
      "Epoch 2/200\n",
      "750/750 [==============================] - 11s 15ms/step - loss: 0.1409 - accuracy: 0.9575 - val_loss: 0.1024 - val_accuracy: 0.9690\n",
      "Epoch 3/200\n",
      "750/750 [==============================] - 11s 15ms/step - loss: 0.1100 - accuracy: 0.9669 - val_loss: 0.0996 - val_accuracy: 0.9705\n",
      "Epoch 4/200\n",
      "750/750 [==============================] - 11s 15ms/step - loss: 0.0940 - accuracy: 0.9718 - val_loss: 0.0896 - val_accuracy: 0.9753\n",
      "Epoch 5/200\n",
      "750/750 [==============================] - 11s 15ms/step - loss: 0.0816 - accuracy: 0.9754 - val_loss: 0.0962 - val_accuracy: 0.9727\n",
      "Epoch 6/200\n",
      "750/750 [==============================] - 11s 15ms/step - loss: 0.0705 - accuracy: 0.9789 - val_loss: 0.0877 - val_accuracy: 0.9761\n",
      "Epoch 7/200\n",
      "750/750 [==============================] - 11s 15ms/step - loss: 0.0681 - accuracy: 0.9795 - val_loss: 0.0927 - val_accuracy: 0.9753\n",
      "Epoch 8/200\n",
      "750/750 [==============================] - 11s 15ms/step - loss: 0.0607 - accuracy: 0.9815 - val_loss: 0.0799 - val_accuracy: 0.9789\n",
      "Epoch 9/200\n",
      "750/750 [==============================] - 11s 15ms/step - loss: 0.0576 - accuracy: 0.9826 - val_loss: 0.0873 - val_accuracy: 0.9786\n",
      "Epoch 10/200\n",
      "750/750 [==============================] - 11s 15ms/step - loss: 0.0563 - accuracy: 0.9834 - val_loss: 0.0838 - val_accuracy: 0.9787\n",
      "Epoch 11/200\n",
      "750/750 [==============================] - 11s 15ms/step - loss: 0.0500 - accuracy: 0.9850 - val_loss: 0.0889 - val_accuracy: 0.9781\n",
      "Epoch 12/200\n",
      "750/750 [==============================] - 11s 14ms/step - loss: 0.0476 - accuracy: 0.9856 - val_loss: 0.0892 - val_accuracy: 0.9772\n",
      "Epoch 13/200\n",
      "750/750 [==============================] - 11s 14ms/step - loss: 0.0451 - accuracy: 0.9862 - val_loss: 0.0933 - val_accuracy: 0.9791\n",
      "Epoch 14/200\n",
      "750/750 [==============================] - 11s 14ms/step - loss: 0.0441 - accuracy: 0.9865 - val_loss: 0.0881 - val_accuracy: 0.9796\n",
      "Epoch 15/200\n",
      "750/750 [==============================] - 11s 15ms/step - loss: 0.0455 - accuracy: 0.9869 - val_loss: 0.0819 - val_accuracy: 0.9798\n",
      "Epoch 16/200\n",
      "750/750 [==============================] - 11s 15ms/step - loss: 0.0407 - accuracy: 0.9880 - val_loss: 0.0848 - val_accuracy: 0.9800\n",
      "Epoch 17/200\n",
      "750/750 [==============================] - 11s 15ms/step - loss: 0.0382 - accuracy: 0.9883 - val_loss: 0.0919 - val_accuracy: 0.9787\n",
      "Epoch 18/200\n",
      "750/750 [==============================] - 11s 15ms/step - loss: 0.0381 - accuracy: 0.9892 - val_loss: 0.0891 - val_accuracy: 0.9804\n",
      "Epoch 19/200\n",
      "750/750 [==============================] - 11s 15ms/step - loss: 0.0366 - accuracy: 0.9891 - val_loss: 0.0943 - val_accuracy: 0.9788\n",
      "Epoch 20/200\n",
      "750/750 [==============================] - 11s 15ms/step - loss: 0.0344 - accuracy: 0.9897 - val_loss: 0.0931 - val_accuracy: 0.9810\n",
      "Epoch 21/200\n",
      "750/750 [==============================] - 11s 15ms/step - loss: 0.0358 - accuracy: 0.9894 - val_loss: 0.0975 - val_accuracy: 0.9793\n",
      "Epoch 22/200\n",
      "750/750 [==============================] - 11s 15ms/step - loss: 0.0348 - accuracy: 0.9904 - val_loss: 0.0878 - val_accuracy: 0.9808\n",
      "Epoch 23/200\n",
      "750/750 [==============================] - 11s 15ms/step - loss: 0.0311 - accuracy: 0.9910 - val_loss: 0.0946 - val_accuracy: 0.9808\n",
      "Epoch 24/200\n",
      "750/750 [==============================] - 11s 15ms/step - loss: 0.0347 - accuracy: 0.9903 - val_loss: 0.1015 - val_accuracy: 0.9778\n",
      "Epoch 25/200\n",
      "750/750 [==============================] - 11s 15ms/step - loss: 0.0323 - accuracy: 0.9907 - val_loss: 0.1009 - val_accuracy: 0.9806\n",
      "Epoch 26/200\n",
      "750/750 [==============================] - 11s 15ms/step - loss: 0.0306 - accuracy: 0.9911 - val_loss: 0.1018 - val_accuracy: 0.9802\n",
      "Epoch 27/200\n",
      "750/750 [==============================] - 11s 15ms/step - loss: 0.0317 - accuracy: 0.9911 - val_loss: 0.0989 - val_accuracy: 0.9803\n",
      "Epoch 28/200\n",
      "750/750 [==============================] - 11s 15ms/step - loss: 0.0265 - accuracy: 0.9922 - val_loss: 0.0954 - val_accuracy: 0.9816\n",
      "Epoch 29/200\n",
      "750/750 [==============================] - 11s 15ms/step - loss: 0.0297 - accuracy: 0.9917 - val_loss: 0.0984 - val_accuracy: 0.9820\n",
      "Epoch 30/200\n",
      "750/750 [==============================] - 11s 15ms/step - loss: 0.0298 - accuracy: 0.9918 - val_loss: 0.0957 - val_accuracy: 0.9823\n",
      "Epoch 31/200\n",
      "750/750 [==============================] - 11s 15ms/step - loss: 0.0267 - accuracy: 0.9925 - val_loss: 0.1084 - val_accuracy: 0.9804\n",
      "Epoch 32/200\n",
      "750/750 [==============================] - 11s 15ms/step - loss: 0.0308 - accuracy: 0.9916 - val_loss: 0.1093 - val_accuracy: 0.9796\n",
      "Epoch 33/200\n",
      "750/750 [==============================] - 11s 15ms/step - loss: 0.0296 - accuracy: 0.9915 - val_loss: 0.1082 - val_accuracy: 0.9802\n",
      "Epoch 34/200\n",
      "750/750 [==============================] - 11s 15ms/step - loss: 0.0267 - accuracy: 0.9921 - val_loss: 0.1192 - val_accuracy: 0.9811\n",
      "Epoch 35/200\n",
      "750/750 [==============================] - 11s 15ms/step - loss: 0.0283 - accuracy: 0.9926 - val_loss: 0.0972 - val_accuracy: 0.9816\n",
      "Epoch 36/200\n",
      "750/750 [==============================] - 11s 15ms/step - loss: 0.0274 - accuracy: 0.9925 - val_loss: 0.0982 - val_accuracy: 0.9825\n",
      "Epoch 37/200\n",
      "750/750 [==============================] - 11s 15ms/step - loss: 0.0259 - accuracy: 0.9935 - val_loss: 0.1067 - val_accuracy: 0.9803\n",
      "Epoch 38/200\n",
      "750/750 [==============================] - 11s 15ms/step - loss: 0.0308 - accuracy: 0.9921 - val_loss: 0.0979 - val_accuracy: 0.9821\n",
      "Epoch 39/200\n",
      "750/750 [==============================] - 11s 15ms/step - loss: 0.0239 - accuracy: 0.9937 - val_loss: 0.1044 - val_accuracy: 0.9818\n",
      "Epoch 40/200\n",
      "750/750 [==============================] - 11s 14ms/step - loss: 0.0236 - accuracy: 0.9937 - val_loss: 0.1181 - val_accuracy: 0.9823\n",
      "Epoch 41/200\n",
      "750/750 [==============================] - 11s 14ms/step - loss: 0.0286 - accuracy: 0.9929 - val_loss: 0.1158 - val_accuracy: 0.9817\n",
      "Epoch 42/200\n",
      "750/750 [==============================] - 11s 15ms/step - loss: 0.0250 - accuracy: 0.9934 - val_loss: 0.1250 - val_accuracy: 0.9805\n",
      "Epoch 43/200\n",
      "750/750 [==============================] - 11s 14ms/step - loss: 0.0281 - accuracy: 0.9929 - val_loss: 0.1105 - val_accuracy: 0.9821\n",
      "Epoch 44/200\n",
      "750/750 [==============================] - 11s 14ms/step - loss: 0.0257 - accuracy: 0.9933 - val_loss: 0.1155 - val_accuracy: 0.9821\n",
      "Epoch 45/200\n",
      "750/750 [==============================] - 14s 19ms/step - loss: 0.0261 - accuracy: 0.9933 - val_loss: 0.1127 - val_accuracy: 0.9814\n",
      "Epoch 46/200\n",
      "750/750 [==============================] - 11s 14ms/step - loss: 0.0259 - accuracy: 0.9928 - val_loss: 0.1309 - val_accuracy: 0.9810\n",
      "Epoch 47/200\n",
      "750/750 [==============================] - 11s 15ms/step - loss: 0.0258 - accuracy: 0.9932 - val_loss: 0.1225 - val_accuracy: 0.9819\n",
      "Epoch 48/200\n",
      "750/750 [==============================] - 11s 15ms/step - loss: 0.0254 - accuracy: 0.9933 - val_loss: 0.1130 - val_accuracy: 0.9826\n",
      "Epoch 49/200\n",
      "750/750 [==============================] - 11s 14ms/step - loss: 0.0260 - accuracy: 0.9934 - val_loss: 0.1197 - val_accuracy: 0.9818\n",
      "Epoch 50/200\n",
      "750/750 [==============================] - 11s 14ms/step - loss: 0.0239 - accuracy: 0.9936 - val_loss: 0.1325 - val_accuracy: 0.9831\n",
      "Epoch 51/200\n",
      "750/750 [==============================] - 11s 14ms/step - loss: 0.0277 - accuracy: 0.9936 - val_loss: 0.1150 - val_accuracy: 0.9808\n",
      "Epoch 52/200\n",
      "750/750 [==============================] - 11s 15ms/step - loss: 0.0274 - accuracy: 0.9934 - val_loss: 0.1316 - val_accuracy: 0.9814\n",
      "Epoch 53/200\n",
      "750/750 [==============================] - 11s 15ms/step - loss: 0.0220 - accuracy: 0.9943 - val_loss: 0.1428 - val_accuracy: 0.9803\n",
      "Epoch 54/200\n",
      "750/750 [==============================] - 11s 15ms/step - loss: 0.0264 - accuracy: 0.9941 - val_loss: 0.1414 - val_accuracy: 0.9815\n",
      "Epoch 55/200\n",
      "750/750 [==============================] - 11s 15ms/step - loss: 0.0255 - accuracy: 0.9932 - val_loss: 0.1301 - val_accuracy: 0.9810\n",
      "Epoch 56/200\n",
      "750/750 [==============================] - 11s 15ms/step - loss: 0.0240 - accuracy: 0.9948 - val_loss: 0.1126 - val_accuracy: 0.9831\n",
      "Epoch 57/200\n",
      "750/750 [==============================] - 11s 15ms/step - loss: 0.0248 - accuracy: 0.9944 - val_loss: 0.1285 - val_accuracy: 0.9808\n",
      "Epoch 58/200\n",
      "750/750 [==============================] - 11s 15ms/step - loss: 0.0265 - accuracy: 0.9939 - val_loss: 0.1256 - val_accuracy: 0.9826\n",
      "Epoch 59/200\n",
      "750/750 [==============================] - 11s 15ms/step - loss: 0.0242 - accuracy: 0.9942 - val_loss: 0.1295 - val_accuracy: 0.9828\n",
      "Epoch 60/200\n",
      "750/750 [==============================] - 11s 15ms/step - loss: 0.0218 - accuracy: 0.9949 - val_loss: 0.1257 - val_accuracy: 0.9833\n",
      "Epoch 61/200\n",
      "750/750 [==============================] - 11s 15ms/step - loss: 0.0227 - accuracy: 0.9946 - val_loss: 0.1273 - val_accuracy: 0.9828\n",
      "Epoch 62/200\n",
      "750/750 [==============================] - 11s 15ms/step - loss: 0.0237 - accuracy: 0.9945 - val_loss: 0.1392 - val_accuracy: 0.9825\n",
      "Epoch 63/200\n",
      "750/750 [==============================] - 11s 15ms/step - loss: 0.0236 - accuracy: 0.9950 - val_loss: 0.1251 - val_accuracy: 0.9829\n",
      "Epoch 64/200\n",
      "750/750 [==============================] - 11s 14ms/step - loss: 0.0211 - accuracy: 0.9950 - val_loss: 0.1264 - val_accuracy: 0.9834\n",
      "Epoch 65/200\n",
      "750/750 [==============================] - 11s 15ms/step - loss: 0.0266 - accuracy: 0.9944 - val_loss: 0.1207 - val_accuracy: 0.9822\n",
      "Epoch 66/200\n",
      "750/750 [==============================] - 12s 16ms/step - loss: 0.0231 - accuracy: 0.9944 - val_loss: 0.1299 - val_accuracy: 0.9819\n",
      "Epoch 67/200\n",
      "750/750 [==============================] - 11s 15ms/step - loss: 0.0227 - accuracy: 0.9947 - val_loss: 0.1171 - val_accuracy: 0.9824\n",
      "Epoch 68/200\n",
      "750/750 [==============================] - 11s 15ms/step - loss: 0.0244 - accuracy: 0.9948 - val_loss: 0.1154 - val_accuracy: 0.9814\n",
      "Epoch 69/200\n",
      "750/750 [==============================] - 11s 15ms/step - loss: 0.0242 - accuracy: 0.9945 - val_loss: 0.1572 - val_accuracy: 0.9812\n",
      "Epoch 70/200\n",
      "750/750 [==============================] - 11s 15ms/step - loss: 0.0279 - accuracy: 0.9938 - val_loss: 0.1384 - val_accuracy: 0.9818\n",
      "Epoch 71/200\n",
      "750/750 [==============================] - 11s 15ms/step - loss: 0.0217 - accuracy: 0.9949 - val_loss: 0.1296 - val_accuracy: 0.9829\n",
      "Epoch 72/200\n",
      "750/750 [==============================] - 11s 15ms/step - loss: 0.0229 - accuracy: 0.9948 - val_loss: 0.1442 - val_accuracy: 0.9821\n",
      "Epoch 73/200\n",
      "750/750 [==============================] - 11s 15ms/step - loss: 0.0239 - accuracy: 0.9950 - val_loss: 0.1466 - val_accuracy: 0.9812\n",
      "Epoch 74/200\n",
      "750/750 [==============================] - 11s 15ms/step - loss: 0.0195 - accuracy: 0.9956 - val_loss: 0.1499 - val_accuracy: 0.9838\n",
      "Epoch 75/200\n",
      "750/750 [==============================] - 11s 15ms/step - loss: 0.0248 - accuracy: 0.9948 - val_loss: 0.1474 - val_accuracy: 0.9818\n",
      "Epoch 76/200\n",
      "750/750 [==============================] - 11s 15ms/step - loss: 0.0161 - accuracy: 0.9961 - val_loss: 0.1635 - val_accuracy: 0.9816\n",
      "Epoch 77/200\n",
      "750/750 [==============================] - 11s 15ms/step - loss: 0.0304 - accuracy: 0.9936 - val_loss: 0.1417 - val_accuracy: 0.9839\n",
      "Epoch 78/200\n",
      "750/750 [==============================] - 11s 14ms/step - loss: 0.0213 - accuracy: 0.9954 - val_loss: 0.1595 - val_accuracy: 0.9828\n",
      "Epoch 79/200\n",
      "750/750 [==============================] - 11s 15ms/step - loss: 0.0229 - accuracy: 0.9955 - val_loss: 0.1457 - val_accuracy: 0.9836\n",
      "Epoch 80/200\n",
      "750/750 [==============================] - 11s 15ms/step - loss: 0.0207 - accuracy: 0.9955 - val_loss: 0.1617 - val_accuracy: 0.9821\n",
      "Epoch 81/200\n",
      "750/750 [==============================] - 11s 15ms/step - loss: 0.0205 - accuracy: 0.9954 - val_loss: 0.1669 - val_accuracy: 0.9834\n",
      "Epoch 82/200\n",
      "750/750 [==============================] - 11s 15ms/step - loss: 0.0285 - accuracy: 0.9942 - val_loss: 0.1436 - val_accuracy: 0.9831\n",
      "Epoch 83/200\n",
      "750/750 [==============================] - 11s 15ms/step - loss: 0.0220 - accuracy: 0.9952 - val_loss: 0.1555 - val_accuracy: 0.9833\n",
      "Epoch 84/200\n",
      "750/750 [==============================] - 11s 15ms/step - loss: 0.0226 - accuracy: 0.9954 - val_loss: 0.1504 - val_accuracy: 0.9828\n",
      "Epoch 85/200\n",
      "750/750 [==============================] - 12s 16ms/step - loss: 0.0228 - accuracy: 0.9950 - val_loss: 0.1443 - val_accuracy: 0.9827\n",
      "Epoch 86/200\n",
      "750/750 [==============================] - 12s 16ms/step - loss: 0.0225 - accuracy: 0.9952 - val_loss: 0.1506 - val_accuracy: 0.9820\n",
      "Epoch 87/200\n",
      "750/750 [==============================] - 12s 16ms/step - loss: 0.0261 - accuracy: 0.9955 - val_loss: 0.1711 - val_accuracy: 0.9828\n",
      "Epoch 88/200\n",
      "750/750 [==============================] - 12s 15ms/step - loss: 0.0222 - accuracy: 0.9949 - val_loss: 0.1856 - val_accuracy: 0.9819\n",
      "Epoch 89/200\n",
      "750/750 [==============================] - 11s 15ms/step - loss: 0.0269 - accuracy: 0.9950 - val_loss: 0.1532 - val_accuracy: 0.9829\n",
      "Epoch 90/200\n",
      "750/750 [==============================] - 12s 16ms/step - loss: 0.0200 - accuracy: 0.9958 - val_loss: 0.1445 - val_accuracy: 0.9822\n",
      "Epoch 91/200\n",
      "750/750 [==============================] - 12s 16ms/step - loss: 0.0245 - accuracy: 0.9953 - val_loss: 0.1533 - val_accuracy: 0.9827\n",
      "Epoch 92/200\n",
      "750/750 [==============================] - 11s 15ms/step - loss: 0.0201 - accuracy: 0.9958 - val_loss: 0.1556 - val_accuracy: 0.9833\n",
      "Epoch 93/200\n",
      "750/750 [==============================] - 11s 15ms/step - loss: 0.0237 - accuracy: 0.9950 - val_loss: 0.1630 - val_accuracy: 0.9835\n",
      "Epoch 94/200\n",
      "750/750 [==============================] - 11s 15ms/step - loss: 0.0267 - accuracy: 0.9951 - val_loss: 0.1648 - val_accuracy: 0.9831\n",
      "Epoch 95/200\n",
      "750/750 [==============================] - 11s 15ms/step - loss: 0.0200 - accuracy: 0.9960 - val_loss: 0.1494 - val_accuracy: 0.9837\n",
      "Epoch 96/200\n",
      "750/750 [==============================] - 11s 15ms/step - loss: 0.0167 - accuracy: 0.9959 - val_loss: 0.1505 - val_accuracy: 0.9838\n",
      "Epoch 97/200\n",
      "750/750 [==============================] - 12s 15ms/step - loss: 0.0267 - accuracy: 0.9948 - val_loss: 0.1660 - val_accuracy: 0.9818\n",
      "Epoch 98/200\n",
      "750/750 [==============================] - 12s 15ms/step - loss: 0.0201 - accuracy: 0.9956 - val_loss: 0.1770 - val_accuracy: 0.9825\n",
      "Epoch 99/200\n",
      "750/750 [==============================] - 15s 20ms/step - loss: 0.0250 - accuracy: 0.9954 - val_loss: 0.1607 - val_accuracy: 0.9816\n",
      "Epoch 100/200\n",
      "750/750 [==============================] - 11s 15ms/step - loss: 0.0201 - accuracy: 0.9955 - val_loss: 0.1574 - val_accuracy: 0.9828\n",
      "Epoch 101/200\n",
      "750/750 [==============================] - 12s 15ms/step - loss: 0.0252 - accuracy: 0.9951 - val_loss: 0.1669 - val_accuracy: 0.9825\n",
      "Epoch 102/200\n",
      "750/750 [==============================] - 11s 15ms/step - loss: 0.0250 - accuracy: 0.9954 - val_loss: 0.1839 - val_accuracy: 0.9811\n",
      "Epoch 103/200\n",
      "750/750 [==============================] - 11s 15ms/step - loss: 0.0245 - accuracy: 0.9952 - val_loss: 0.1623 - val_accuracy: 0.9830\n",
      "Epoch 104/200\n",
      "750/750 [==============================] - 11s 15ms/step - loss: 0.0178 - accuracy: 0.9963 - val_loss: 0.1621 - val_accuracy: 0.9833\n",
      "Epoch 105/200\n",
      "750/750 [==============================] - 11s 15ms/step - loss: 0.0217 - accuracy: 0.9957 - val_loss: 0.1583 - val_accuracy: 0.9834\n",
      "Epoch 106/200\n",
      "750/750 [==============================] - 12s 15ms/step - loss: 0.0243 - accuracy: 0.9955 - val_loss: 0.1614 - val_accuracy: 0.9813\n",
      "Epoch 107/200\n",
      "750/750 [==============================] - 11s 15ms/step - loss: 0.0228 - accuracy: 0.9953 - val_loss: 0.1620 - val_accuracy: 0.9831\n",
      "Epoch 108/200\n",
      "750/750 [==============================] - 11s 15ms/step - loss: 0.0233 - accuracy: 0.9956 - val_loss: 0.1940 - val_accuracy: 0.9833\n",
      "Epoch 109/200\n",
      "750/750 [==============================] - 11s 15ms/step - loss: 0.0236 - accuracy: 0.9959 - val_loss: 0.1850 - val_accuracy: 0.9836\n",
      "Epoch 110/200\n",
      "750/750 [==============================] - 11s 15ms/step - loss: 0.0235 - accuracy: 0.9957 - val_loss: 0.1679 - val_accuracy: 0.9816\n",
      "Epoch 111/200\n",
      "750/750 [==============================] - 11s 15ms/step - loss: 0.0204 - accuracy: 0.9962 - val_loss: 0.1742 - val_accuracy: 0.9819\n",
      "Epoch 112/200\n",
      "750/750 [==============================] - 11s 15ms/step - loss: 0.0277 - accuracy: 0.9952 - val_loss: 0.1669 - val_accuracy: 0.9827\n",
      "Epoch 113/200\n",
      "750/750 [==============================] - 11s 15ms/step - loss: 0.0214 - accuracy: 0.9961 - val_loss: 0.1913 - val_accuracy: 0.9839\n",
      "Epoch 114/200\n",
      "750/750 [==============================] - 11s 15ms/step - loss: 0.0232 - accuracy: 0.9957 - val_loss: 0.1805 - val_accuracy: 0.9818\n",
      "Epoch 115/200\n",
      "750/750 [==============================] - 11s 15ms/step - loss: 0.0242 - accuracy: 0.9954 - val_loss: 0.1873 - val_accuracy: 0.9830\n",
      "Epoch 116/200\n",
      "750/750 [==============================] - 11s 15ms/step - loss: 0.0227 - accuracy: 0.9955 - val_loss: 0.1912 - val_accuracy: 0.9827\n",
      "Epoch 117/200\n",
      "750/750 [==============================] - 11s 15ms/step - loss: 0.0209 - accuracy: 0.9954 - val_loss: 0.2191 - val_accuracy: 0.9820\n",
      "Epoch 118/200\n",
      "750/750 [==============================] - 11s 15ms/step - loss: 0.0235 - accuracy: 0.9955 - val_loss: 0.1996 - val_accuracy: 0.9811\n",
      "Epoch 119/200\n",
      "750/750 [==============================] - 11s 15ms/step - loss: 0.0207 - accuracy: 0.9959 - val_loss: 0.2387 - val_accuracy: 0.9821\n",
      "Epoch 120/200\n",
      "750/750 [==============================] - 11s 15ms/step - loss: 0.0229 - accuracy: 0.9960 - val_loss: 0.2350 - val_accuracy: 0.9818\n",
      "Epoch 121/200\n",
      "750/750 [==============================] - 11s 15ms/step - loss: 0.0268 - accuracy: 0.9956 - val_loss: 0.2107 - val_accuracy: 0.9816\n",
      "Epoch 122/200\n",
      "750/750 [==============================] - 11s 15ms/step - loss: 0.0197 - accuracy: 0.9961 - val_loss: 0.1771 - val_accuracy: 0.9829\n",
      "Epoch 123/200\n",
      "750/750 [==============================] - 12s 15ms/step - loss: 0.0177 - accuracy: 0.9967 - val_loss: 0.1840 - val_accuracy: 0.9818\n",
      "Epoch 124/200\n",
      "750/750 [==============================] - 11s 15ms/step - loss: 0.0247 - accuracy: 0.9959 - val_loss: 0.2103 - val_accuracy: 0.9821\n",
      "Epoch 125/200\n",
      "750/750 [==============================] - 11s 15ms/step - loss: 0.0183 - accuracy: 0.9966 - val_loss: 0.2126 - val_accuracy: 0.9821\n",
      "Epoch 126/200\n",
      "750/750 [==============================] - 11s 15ms/step - loss: 0.0222 - accuracy: 0.9961 - val_loss: 0.2216 - val_accuracy: 0.9825\n",
      "Epoch 127/200\n",
      "750/750 [==============================] - 11s 15ms/step - loss: 0.0231 - accuracy: 0.9964 - val_loss: 0.2174 - val_accuracy: 0.9818\n",
      "Epoch 128/200\n",
      "750/750 [==============================] - 11s 15ms/step - loss: 0.0212 - accuracy: 0.9961 - val_loss: 0.1829 - val_accuracy: 0.9818\n",
      "Epoch 129/200\n",
      "750/750 [==============================] - 11s 15ms/step - loss: 0.0215 - accuracy: 0.9962 - val_loss: 0.2125 - val_accuracy: 0.9818\n",
      "Epoch 130/200\n",
      "750/750 [==============================] - 11s 15ms/step - loss: 0.0233 - accuracy: 0.9963 - val_loss: 0.2235 - val_accuracy: 0.9823\n",
      "Epoch 131/200\n",
      "750/750 [==============================] - 11s 15ms/step - loss: 0.0270 - accuracy: 0.9955 - val_loss: 0.2508 - val_accuracy: 0.9810\n",
      "Epoch 132/200\n",
      "750/750 [==============================] - 11s 15ms/step - loss: 0.0269 - accuracy: 0.9956 - val_loss: 0.2051 - val_accuracy: 0.9825\n",
      "Epoch 133/200\n",
      "750/750 [==============================] - 11s 15ms/step - loss: 0.0241 - accuracy: 0.9959 - val_loss: 0.1661 - val_accuracy: 0.9805\n",
      "Epoch 134/200\n",
      "750/750 [==============================] - 11s 15ms/step - loss: 0.0193 - accuracy: 0.9965 - val_loss: 0.1926 - val_accuracy: 0.9841\n",
      "Epoch 135/200\n",
      "750/750 [==============================] - 11s 15ms/step - loss: 0.0247 - accuracy: 0.9956 - val_loss: 0.2062 - val_accuracy: 0.9822\n",
      "Epoch 136/200\n",
      "750/750 [==============================] - 11s 15ms/step - loss: 0.0217 - accuracy: 0.9959 - val_loss: 0.1809 - val_accuracy: 0.9842\n",
      "Epoch 137/200\n",
      "750/750 [==============================] - 11s 15ms/step - loss: 0.0253 - accuracy: 0.9957 - val_loss: 0.1767 - val_accuracy: 0.9828\n",
      "Epoch 138/200\n",
      "750/750 [==============================] - 11s 15ms/step - loss: 0.0234 - accuracy: 0.9957 - val_loss: 0.1921 - val_accuracy: 0.9829\n",
      "Epoch 139/200\n",
      "750/750 [==============================] - 11s 15ms/step - loss: 0.0229 - accuracy: 0.9959 - val_loss: 0.2283 - val_accuracy: 0.9812\n",
      "Epoch 140/200\n",
      "750/750 [==============================] - 11s 15ms/step - loss: 0.0193 - accuracy: 0.9962 - val_loss: 0.2230 - val_accuracy: 0.9808\n",
      "Epoch 141/200\n",
      "750/750 [==============================] - 11s 15ms/step - loss: 0.0252 - accuracy: 0.9960 - val_loss: 0.2181 - val_accuracy: 0.9828\n",
      "Epoch 142/200\n",
      "750/750 [==============================] - 11s 15ms/step - loss: 0.0260 - accuracy: 0.9953 - val_loss: 0.1966 - val_accuracy: 0.9820\n",
      "Epoch 143/200\n",
      "750/750 [==============================] - 11s 15ms/step - loss: 0.0162 - accuracy: 0.9966 - val_loss: 0.2122 - val_accuracy: 0.9831\n",
      "Epoch 144/200\n",
      "750/750 [==============================] - 11s 15ms/step - loss: 0.0213 - accuracy: 0.9957 - val_loss: 0.2049 - val_accuracy: 0.9821\n",
      "Epoch 145/200\n",
      "750/750 [==============================] - 12s 16ms/step - loss: 0.0242 - accuracy: 0.9961 - val_loss: 0.2292 - val_accuracy: 0.9811\n",
      "Epoch 146/200\n",
      "750/750 [==============================] - 11s 15ms/step - loss: 0.0194 - accuracy: 0.9964 - val_loss: 0.2350 - val_accuracy: 0.9829\n",
      "Epoch 147/200\n",
      "750/750 [==============================] - 11s 15ms/step - loss: 0.0198 - accuracy: 0.9969 - val_loss: 0.2204 - val_accuracy: 0.9834\n",
      "Epoch 148/200\n",
      "750/750 [==============================] - 12s 15ms/step - loss: 0.0189 - accuracy: 0.9969 - val_loss: 0.2613 - val_accuracy: 0.9827\n",
      "Epoch 149/200\n",
      "750/750 [==============================] - 11s 15ms/step - loss: 0.0313 - accuracy: 0.9952 - val_loss: 0.2128 - val_accuracy: 0.9827\n",
      "Epoch 150/200\n",
      "750/750 [==============================] - 12s 15ms/step - loss: 0.0178 - accuracy: 0.9966 - val_loss: 0.2269 - val_accuracy: 0.9823\n",
      "Epoch 151/200\n",
      "750/750 [==============================] - 11s 15ms/step - loss: 0.0203 - accuracy: 0.9966 - val_loss: 0.2175 - val_accuracy: 0.9817\n",
      "Epoch 152/200\n",
      "750/750 [==============================] - 13s 18ms/step - loss: 0.0267 - accuracy: 0.9956 - val_loss: 0.2343 - val_accuracy: 0.9832\n",
      "Epoch 153/200\n",
      "750/750 [==============================] - 14s 19ms/step - loss: 0.0191 - accuracy: 0.9965 - val_loss: 0.2148 - val_accuracy: 0.9824\n",
      "Epoch 154/200\n",
      "750/750 [==============================] - 11s 15ms/step - loss: 0.0225 - accuracy: 0.9963 - val_loss: 0.2058 - val_accuracy: 0.9831\n",
      "Epoch 155/200\n",
      "750/750 [==============================] - 11s 15ms/step - loss: 0.0214 - accuracy: 0.9966 - val_loss: 0.1989 - val_accuracy: 0.9833\n",
      "Epoch 156/200\n",
      "750/750 [==============================] - 11s 15ms/step - loss: 0.0192 - accuracy: 0.9968 - val_loss: 0.2602 - val_accuracy: 0.9813\n",
      "Epoch 157/200\n",
      "750/750 [==============================] - 11s 15ms/step - loss: 0.0211 - accuracy: 0.9964 - val_loss: 0.2375 - val_accuracy: 0.9825\n",
      "Epoch 158/200\n",
      "750/750 [==============================] - 11s 15ms/step - loss: 0.0259 - accuracy: 0.9962 - val_loss: 0.2372 - val_accuracy: 0.9832\n",
      "Epoch 159/200\n",
      "750/750 [==============================] - 11s 15ms/step - loss: 0.0246 - accuracy: 0.9959 - val_loss: 0.1975 - val_accuracy: 0.9829\n",
      "Epoch 160/200\n",
      "750/750 [==============================] - 11s 15ms/step - loss: 0.0163 - accuracy: 0.9970 - val_loss: 0.2542 - val_accuracy: 0.9824\n",
      "Epoch 161/200\n",
      "750/750 [==============================] - 11s 15ms/step - loss: 0.0237 - accuracy: 0.9961 - val_loss: 0.2294 - val_accuracy: 0.9834\n",
      "Epoch 162/200\n",
      "750/750 [==============================] - 11s 15ms/step - loss: 0.0245 - accuracy: 0.9964 - val_loss: 0.2518 - val_accuracy: 0.9830\n",
      "Epoch 163/200\n",
      "750/750 [==============================] - 11s 15ms/step - loss: 0.0252 - accuracy: 0.9965 - val_loss: 0.2628 - val_accuracy: 0.9817\n",
      "Epoch 164/200\n",
      "750/750 [==============================] - 11s 15ms/step - loss: 0.0252 - accuracy: 0.9966 - val_loss: 0.2374 - val_accuracy: 0.9831\n",
      "Epoch 165/200\n",
      "750/750 [==============================] - 11s 15ms/step - loss: 0.0232 - accuracy: 0.9965 - val_loss: 0.2376 - val_accuracy: 0.9813\n",
      "Epoch 166/200\n",
      "750/750 [==============================] - 11s 15ms/step - loss: 0.0269 - accuracy: 0.9964 - val_loss: 0.2132 - val_accuracy: 0.9818\n",
      "Epoch 167/200\n",
      "750/750 [==============================] - 11s 15ms/step - loss: 0.0174 - accuracy: 0.9970 - val_loss: 0.2366 - val_accuracy: 0.9834\n",
      "Epoch 168/200\n",
      "750/750 [==============================] - 11s 15ms/step - loss: 0.0197 - accuracy: 0.9967 - val_loss: 0.2422 - val_accuracy: 0.9827\n",
      "Epoch 169/200\n",
      "750/750 [==============================] - 11s 15ms/step - loss: 0.0233 - accuracy: 0.9962 - val_loss: 0.2024 - val_accuracy: 0.9834\n",
      "Epoch 170/200\n",
      "750/750 [==============================] - 11s 15ms/step - loss: 0.0206 - accuracy: 0.9966 - val_loss: 0.2475 - val_accuracy: 0.9822\n",
      "Epoch 171/200\n",
      "750/750 [==============================] - 11s 15ms/step - loss: 0.0223 - accuracy: 0.9967 - val_loss: 0.2424 - val_accuracy: 0.9826\n",
      "Epoch 172/200\n",
      "750/750 [==============================] - 12s 15ms/step - loss: 0.0225 - accuracy: 0.9964 - val_loss: 0.2397 - val_accuracy: 0.9835\n",
      "Epoch 173/200\n",
      "750/750 [==============================] - 11s 15ms/step - loss: 0.0197 - accuracy: 0.9970 - val_loss: 0.2883 - val_accuracy: 0.9818\n",
      "Epoch 174/200\n",
      "750/750 [==============================] - 11s 15ms/step - loss: 0.0223 - accuracy: 0.9967 - val_loss: 0.2910 - val_accuracy: 0.9817\n",
      "Epoch 175/200\n",
      "750/750 [==============================] - 11s 15ms/step - loss: 0.0219 - accuracy: 0.9967 - val_loss: 0.2594 - val_accuracy: 0.9821\n",
      "Epoch 176/200\n",
      "750/750 [==============================] - 11s 15ms/step - loss: 0.0240 - accuracy: 0.9961 - val_loss: 0.2268 - val_accuracy: 0.9825\n",
      "Epoch 177/200\n",
      "750/750 [==============================] - 11s 15ms/step - loss: 0.0201 - accuracy: 0.9965 - val_loss: 0.2357 - val_accuracy: 0.9825\n",
      "Epoch 178/200\n",
      "750/750 [==============================] - 11s 15ms/step - loss: 0.0228 - accuracy: 0.9962 - val_loss: 0.2180 - val_accuracy: 0.9818\n",
      "Epoch 179/200\n",
      "750/750 [==============================] - 11s 14ms/step - loss: 0.0196 - accuracy: 0.9968 - val_loss: 0.2680 - val_accuracy: 0.9839\n",
      "Epoch 180/200\n",
      "750/750 [==============================] - 11s 15ms/step - loss: 0.0232 - accuracy: 0.9964 - val_loss: 0.2386 - val_accuracy: 0.9821\n",
      "Epoch 181/200\n",
      "750/750 [==============================] - 11s 15ms/step - loss: 0.0181 - accuracy: 0.9969 - val_loss: 0.2827 - val_accuracy: 0.9812\n",
      "Epoch 182/200\n",
      "750/750 [==============================] - 11s 15ms/step - loss: 0.0244 - accuracy: 0.9963 - val_loss: 0.2404 - val_accuracy: 0.9831\n",
      "Epoch 183/200\n",
      "750/750 [==============================] - 11s 15ms/step - loss: 0.0157 - accuracy: 0.9970 - val_loss: 0.2637 - val_accuracy: 0.9840\n",
      "Epoch 184/200\n",
      "750/750 [==============================] - 11s 15ms/step - loss: 0.0263 - accuracy: 0.9967 - val_loss: 0.2832 - val_accuracy: 0.9842\n",
      "Epoch 185/200\n",
      "750/750 [==============================] - 11s 15ms/step - loss: 0.0252 - accuracy: 0.9961 - val_loss: 0.2280 - val_accuracy: 0.9827\n",
      "Epoch 186/200\n",
      "750/750 [==============================] - 11s 15ms/step - loss: 0.0222 - accuracy: 0.9962 - val_loss: 0.2252 - val_accuracy: 0.9833\n",
      "Epoch 187/200\n",
      "750/750 [==============================] - 11s 15ms/step - loss: 0.0215 - accuracy: 0.9969 - val_loss: 0.2530 - val_accuracy: 0.9824\n",
      "Epoch 188/200\n",
      "750/750 [==============================] - 11s 15ms/step - loss: 0.0252 - accuracy: 0.9960 - val_loss: 0.2482 - val_accuracy: 0.9828\n",
      "Epoch 189/200\n",
      "750/750 [==============================] - 11s 15ms/step - loss: 0.0258 - accuracy: 0.9967 - val_loss: 0.2212 - val_accuracy: 0.9816\n",
      "Epoch 190/200\n",
      "750/750 [==============================] - 11s 15ms/step - loss: 0.0168 - accuracy: 0.9970 - val_loss: 0.2452 - val_accuracy: 0.9839\n",
      "Epoch 191/200\n",
      "750/750 [==============================] - 11s 15ms/step - loss: 0.0210 - accuracy: 0.9970 - val_loss: 0.2331 - val_accuracy: 0.9843\n",
      "Epoch 192/200\n",
      "750/750 [==============================] - 11s 14ms/step - loss: 0.0201 - accuracy: 0.9973 - val_loss: 0.2320 - val_accuracy: 0.9833\n",
      "Epoch 193/200\n",
      "750/750 [==============================] - 11s 15ms/step - loss: 0.0205 - accuracy: 0.9970 - val_loss: 0.2858 - val_accuracy: 0.9822\n",
      "Epoch 194/200\n",
      "750/750 [==============================] - 11s 15ms/step - loss: 0.0232 - accuracy: 0.9966 - val_loss: 0.2298 - val_accuracy: 0.9837\n",
      "Epoch 195/200\n",
      "750/750 [==============================] - 11s 15ms/step - loss: 0.0191 - accuracy: 0.9967 - val_loss: 0.2674 - val_accuracy: 0.9845\n",
      "Epoch 196/200\n",
      "750/750 [==============================] - 11s 15ms/step - loss: 0.0153 - accuracy: 0.9971 - val_loss: 0.3262 - val_accuracy: 0.9843\n",
      "Epoch 197/200\n",
      "750/750 [==============================] - 11s 15ms/step - loss: 0.0185 - accuracy: 0.9972 - val_loss: 0.3171 - val_accuracy: 0.9830\n",
      "Epoch 198/200\n",
      "750/750 [==============================] - 11s 15ms/step - loss: 0.0251 - accuracy: 0.9966 - val_loss: 0.3040 - val_accuracy: 0.9829\n",
      "Epoch 199/200\n",
      "750/750 [==============================] - 11s 15ms/step - loss: 0.0209 - accuracy: 0.9966 - val_loss: 0.3098 - val_accuracy: 0.9812\n",
      "Epoch 200/200\n",
      "750/750 [==============================] - 12s 15ms/step - loss: 0.0209 - accuracy: 0.9973 - val_loss: 0.3174 - val_accuracy: 0.9831\n"
     ]
    }
   ],
   "source": [
    "training = model_2.fit(X_train, Y_train, batch_size=64, epochs=30, validation_split=0.2)"
   ]
  },
  {
   "cell_type": "code",
   "execution_count": null,
   "metadata": {
    "colab": {
     "base_uri": "https://localhost:8080/",
     "height": 591
    },
    "id": "we2ZBwRui04X",
    "outputId": "80ad45bf-5f35-4df6-f3eb-9b92bf9b341d"
   },
   "outputs": [
    {
     "name": "stdout",
     "output_type": "stream",
     "text": [
      "dict_keys(['loss', 'accuracy', 'val_loss', 'val_accuracy'])\n"
     ]
    },
    {
     "data": {
      "image/png": "[encoded data removed]",
      "text/plain": [
       "<Figure size 432x288 with 1 Axes>"
      ]
     },
     "metadata": {
      "needs_background": "light",
      "tags": []
     },
     "output_type": "display_data"
    },
    {
     "data": {
      "image/png": "[encoded data removed]",
      "text/plain": [
       "<Figure size 432x288 with 1 Axes>"
      ]
     },
     "metadata": {
      "needs_background": "light",
      "tags": []
     },
     "output_type": "display_data"
    }
   ],
   "source": [
    "import matplotlib.pyplot as plt\n",
    "%matplotlib inline\n",
    "print(training.history.keys())\n",
    "plt.plot(training.history['accuracy'])\n",
    "plt.plot(training.history['val_accuracy'])\n",
    "plt.title('model accuracy')\n",
    "plt.ylabel('accuracy')\n",
    "plt.xlabel('epoch')\n",
    "plt.legend(['train', 'test'], loc='upper left')\n",
    "plt.show()\n",
    "plt.plot(training.history['loss'])\n",
    "plt.plot(training.history['val_loss'])\n",
    "plt.title('model loss')\n",
    "plt.ylabel('loss')\n",
    "plt.xlabel('epoch')\n",
    "plt.legend(['train', 'test'], loc='upper left')\n",
    "plt.show()"
   ]
  },
  {
   "cell_type": "code",
   "execution_count": null,
   "metadata": {
    "colab": {
     "base_uri": "https://localhost:8080/",
     "height": 52
    },
    "id": "rW_yiiBci04l",
    "outputId": "da42046e-de5c-4193-ae78-40503e958d69"
   },
   "outputs": [
    {
     "name": "stdout",
     "output_type": "stream",
     "text": [
      "313/313 [==============================] - 1s 3ms/step - loss: 0.2484 - accuracy: 0.9834\n",
      "Test accuracy: 0.9833999872207642\n"
     ]
    }
   ],
   "source": [
    "#evaluate the model\n",
    "test_loss, test_acc = model_2.evaluate(X_test, Y_test)\n",
    "print('Test accuracy:', test_acc)"
   ]
  }
 ],
 "metadata": {
  "accelerator": "GPU",
  "colab": {
   "collapsed_sections": [
    "XxeyelGk_Tp4",
    "JL8GMQz2R90b",
    "HruLQ2fqS3f2",
    "PwEj36wcbsXF",
    "u5DMnZp1bxAU",
    "szLxFVyIytsv",
    "yZBPiGLXYGUM",
    "RaTcM_Gk_jco",
    "ajqy56PT_pHr",
    "n8iGAu5OAO5Y",
    "Nw7DXcLYfZzp",
    "pjps75cBuR1Z",
    "mBnxm6kkzUYm",
    "AFbx6XHI0KyQ",
    "jX8DXi1jiFYS",
    "X6UHyrSERqid",
    "hQTkURqTLcAy",
    "LFY6t7nLLukS",
    "OFeLvye1L3uN",
    "SEc5Uh-UMIOm"
   ],
   "provenance": []
  },
  "gpuClass": "standard",
  "kernelspec": {
   "display_name": "Python 3 (ipykernel)",
   "language": "python",
   "name": "python3"
  },
  "language_info": {
   "codemirror_mode": {
    "name": "ipython",
    "version": 3
   },
   "file_extension": ".py",
   "mimetype": "text/x-python",
   "name": "python",
   "nbconvert_exporter": "python",
   "pygments_lexer": "ipython3",
   "version": "3.9.13"
  }
 },
 "nbformat": 4,
 "nbformat_minor": 1
}
